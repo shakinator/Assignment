{
  "nbformat": 4,
  "nbformat_minor": 0,
  "metadata": {
    "accelerator": "GPU",
    "colab": {
      "name": "Copy of Flower_Classification_with_TFLite_Model_Maker (Beta).ipynb",
      "provenance": [],
      "collapsed_sections": [],
      "include_colab_link": true
    },
    "kernelspec": {
      "display_name": "Python 3",
      "language": "python",
      "name": "python3"
    },
    "language_info": {
      "codemirror_mode": {
        "name": "ipython",
        "version": 3
      },
      "file_extension": ".py",
      "mimetype": "text/x-python",
      "name": "python",
      "nbconvert_exporter": "python",
      "pygments_lexer": "ipython3",
      "version": "3.7.4"
    }
  },
  "cells": [
    {
      "cell_type": "markdown",
      "metadata": {
        "id": "view-in-github",
        "colab_type": "text"
      },
      "source": [
        "<a href=\"https://colab.research.google.com/github/shakinator/Assignment/blob/main/Copy_of_Flower_Classification_with_TFLite_Model_Maker_(Beta).ipynb\" target=\"_parent\"><img src=\"https://colab.research.google.com/assets/colab-badge.svg\" alt=\"Open In Colab\"/></a>"
      ]
    },
    {
      "cell_type": "markdown",
      "metadata": {
        "id": "h2q27gKz1H20"
      },
      "source": [
        "##### Copyright 2020 The TensorFlow Authors."
      ]
    },
    {
      "cell_type": "code",
      "source": [
        "from google.colab import drive\n",
        "drive.mount('/content/drive')"
      ],
      "metadata": {
        "colab": {
          "base_uri": "https://localhost:8080/"
        },
        "id": "PuhYVggTrJEm",
        "outputId": "30e7faa9-5968-4e7b-91bb-89188d3bbdbd"
      },
      "execution_count": 3,
      "outputs": [
        {
          "output_type": "stream",
          "name": "stdout",
          "text": [
            "Mounted at /content/drive\n"
          ]
        }
      ]
    },
    {
      "cell_type": "code",
      "metadata": {
        "cellView": "form",
        "id": "TUfAcER1oUS6"
      },
      "source": [
        "#@title Licensed under the Apache License, Version 2.0 (the \"License\");\n",
        "# you may not use this file except in compliance with the License.\n",
        "# You may obtain a copy of the License at\n",
        "#\n",
        "# https://www.apache.org/licenses/LICENSE-2.0\n",
        "#\n",
        "# Unless required by applicable law or agreed to in writing, software\n",
        "# distributed under the License is distributed on an \"AS IS\" BASIS,\n",
        "# WITHOUT WARRANTIES OR CONDITIONS OF ANY KIND, either express or implied.\n",
        "# See the License for the specific language governing permissions and\n",
        "# limitations under the License."
      ],
      "execution_count": null,
      "outputs": []
    },
    {
      "cell_type": "markdown",
      "metadata": {
        "id": "Gb7qyhNL1yWt"
      },
      "source": [
        "# Flower classification with TensorFlow Lite Model Maker with TensorFlow 2.0"
      ]
    },
    {
      "cell_type": "markdown",
      "metadata": {
        "id": "nDABAblytltI"
      },
      "source": [
        "<table class=\"tfo-notebook-buttons\" align=\"left\">\n",
        "  <td>\n",
        "    <a target=\"_blank\" href=\"https://colab.research.google.com/github/tensorflow/examples/blob/master/lite/codelabs/flower_classification/ml/Flower_Classification_with_TFLite_Model_Maker.ipynb\">      \n",
        "    <img src=\"https://www.tensorflow.org/images/colab_logo_32px.png\" />\n",
        "    Run in Google Colab</a>\n",
        "  </td>\n",
        "  <td>\n",
        "    <a target=\"_blank\" href=\"https://github.com/tensorflow/examples/blob/master/lite/codelabs/flower_classification/ml/Flower_Classification_with_TFLite_Model_Maker.ipynb\">\n",
        "    <img src=\"https://www.tensorflow.org/images/GitHub-Mark-32px.png\" />\n",
        "    View source on GitHub</a>\n",
        "  </td>\n",
        "</table>"
      ]
    },
    {
      "cell_type": "markdown",
      "metadata": {
        "id": "m86-Nh4pMHqY"
      },
      "source": [
        "Model Maker library simplifies the process of adapting and converting a TensorFlow neural-network model to particular input data when deploying this model for on-device ML applications.\n",
        "\n",
        "This notebook shows an end-to-end example that utilizes this Model Maker library to illustrate the adaption and conversion of a commonly-used image classification model to classify flowers on a mobile device."
      ]
    },
    {
      "cell_type": "markdown",
      "metadata": {
        "id": "bcLF2PKkSbV3"
      },
      "source": [
        "## Prerequisites\n",
        "\n",
        "To run this example, we first need to make a copy of this notebook. Click on \"Copy to Drive\" at the top of this notebook. Then we need to install serveral required packages, including Model Maker package that in github [repo](https://github.com/tensorflow/examples/tree/master/tensorflow_examples/lite/model_maker)."
      ]
    },
    {
      "cell_type": "code",
      "metadata": {
        "id": "6cv3K3oaksJv",
        "colab": {
          "base_uri": "https://localhost:8080/"
        },
        "outputId": "4f209665-95df-4287-8afb-3c0bfb0e8ce1"
      },
      "source": [
        "!pip install -q tflite-model-maker"
      ],
      "execution_count": 5,
      "outputs": [
        {
          "output_type": "stream",
          "name": "stdout",
          "text": [
            "\u001b[K     |████████████████████████████████| 616 kB 4.4 MB/s \n",
            "\u001b[K     |████████████████████████████████| 596 kB 39.0 MB/s \n",
            "\u001b[K     |████████████████████████████████| 1.2 MB 38.3 MB/s \n",
            "\u001b[K     |████████████████████████████████| 3.4 MB 14.0 MB/s \n",
            "\u001b[K     |████████████████████████████████| 237 kB 49.3 MB/s \n",
            "\u001b[K     |████████████████████████████████| 6.4 MB 33.5 MB/s \n",
            "\u001b[K     |████████████████████████████████| 77 kB 4.8 MB/s \n",
            "\u001b[K     |████████████████████████████████| 120 kB 50.7 MB/s \n",
            "\u001b[K     |████████████████████████████████| 1.1 MB 36.1 MB/s \n",
            "\u001b[K     |████████████████████████████████| 840 kB 49.9 MB/s \n",
            "\u001b[K     |████████████████████████████████| 87 kB 5.9 MB/s \n",
            "\u001b[K     |████████████████████████████████| 1.1 MB 42.2 MB/s \n",
            "\u001b[K     |████████████████████████████████| 25.3 MB 1.6 MB/s \n",
            "\u001b[K     |████████████████████████████████| 99 kB 8.5 MB/s \n",
            "\u001b[K     |████████████████████████████████| 47.8 MB 47 kB/s \n",
            "\u001b[K     |████████████████████████████████| 352 kB 50.3 MB/s \n",
            "\u001b[K     |████████████████████████████████| 462 kB 42.7 MB/s \n",
            "\u001b[K     |████████████████████████████████| 211 kB 49.2 MB/s \n",
            "\u001b[?25h  Building wheel for fire (setup.py) ... \u001b[?25l\u001b[?25hdone\n",
            "  Building wheel for py-cpuinfo (setup.py) ... \u001b[?25l\u001b[?25hdone\n"
          ]
        }
      ]
    },
    {
      "cell_type": "markdown",
      "metadata": {
        "id": "Gx1HGRoFQ54j"
      },
      "source": [
        "Import the required packages."
      ]
    },
    {
      "cell_type": "code",
      "metadata": {
        "id": "XtxiUeZEiXpt",
        "colab": {
          "base_uri": "https://localhost:8080/",
          "height": 374
        },
        "outputId": "bb16bd7b-3149-4b2a-d9c0-d2cf83609553"
      },
      "source": [
        "from tflite_model_maker import image_classifier\n",
        "from tflite_model_maker.image_classifier import DataLoader\n",
        "\n",
        "import tensorflow as tf\n",
        "assert tf.__version__.startswith('2')\n",
        "\n",
        "import matplotlib.pyplot as plt\n",
        "import numpy as np"
      ],
      "execution_count": 4,
      "outputs": [
        {
          "output_type": "error",
          "ename": "ModuleNotFoundError",
          "evalue": "ignored",
          "traceback": [
            "\u001b[0;31m---------------------------------------------------------------------------\u001b[0m",
            "\u001b[0;31mModuleNotFoundError\u001b[0m                       Traceback (most recent call last)",
            "\u001b[0;32m<ipython-input-4-9a1b65514f7c>\u001b[0m in \u001b[0;36m<module>\u001b[0;34m()\u001b[0m\n\u001b[0;32m----> 1\u001b[0;31m \u001b[0;32mfrom\u001b[0m \u001b[0mtflite_model_maker\u001b[0m \u001b[0;32mimport\u001b[0m \u001b[0mimage_classifier\u001b[0m\u001b[0;34m\u001b[0m\u001b[0;34m\u001b[0m\u001b[0m\n\u001b[0m\u001b[1;32m      2\u001b[0m \u001b[0;32mfrom\u001b[0m \u001b[0mtflite_model_maker\u001b[0m\u001b[0;34m.\u001b[0m\u001b[0mimage_classifier\u001b[0m \u001b[0;32mimport\u001b[0m \u001b[0mDataLoader\u001b[0m\u001b[0;34m\u001b[0m\u001b[0;34m\u001b[0m\u001b[0m\n\u001b[1;32m      3\u001b[0m \u001b[0;34m\u001b[0m\u001b[0m\n\u001b[1;32m      4\u001b[0m \u001b[0;32mimport\u001b[0m \u001b[0mtensorflow\u001b[0m \u001b[0;32mas\u001b[0m \u001b[0mtf\u001b[0m\u001b[0;34m\u001b[0m\u001b[0;34m\u001b[0m\u001b[0m\n\u001b[1;32m      5\u001b[0m \u001b[0;32massert\u001b[0m \u001b[0mtf\u001b[0m\u001b[0;34m.\u001b[0m\u001b[0m__version__\u001b[0m\u001b[0;34m.\u001b[0m\u001b[0mstartswith\u001b[0m\u001b[0;34m(\u001b[0m\u001b[0;34m'2'\u001b[0m\u001b[0;34m)\u001b[0m\u001b[0;34m\u001b[0m\u001b[0;34m\u001b[0m\u001b[0m\n",
            "\u001b[0;31mModuleNotFoundError\u001b[0m: No module named 'tflite_model_maker'",
            "",
            "\u001b[0;31m---------------------------------------------------------------------------\u001b[0;32m\nNOTE: If your import is failing due to a missing package, you can\nmanually install dependencies using either !pip or !apt.\n\nTo view examples of installing some common dependencies, click the\n\"Open Examples\" button below.\n\u001b[0;31m---------------------------------------------------------------------------\u001b[0m\n"
          ],
          "errorDetails": {
            "actions": [
              {
                "action": "open_url",
                "actionText": "Open Examples",
                "url": "/notebooks/snippets/importing_libraries.ipynb"
              }
            ]
          }
        }
      ]
    },
    {
      "cell_type": "markdown",
      "metadata": {
        "id": "KKRaYHABpob5"
      },
      "source": [
        "## Simple End-to-End Example"
      ]
    },
    {
      "cell_type": "markdown",
      "metadata": {
        "id": "SiZZ5DHXotaW"
      },
      "source": [
        "### Get the data path\n",
        "\n",
        "Let's get some images to play with this simple end-to-end example. Hundreds of images is a good start for Model Maker while more data could achieve better accuracy."
      ]
    },
    {
      "cell_type": "code",
      "metadata": {
        "cellView": "form",
        "id": "3jz5x0JoskPv",
        "colab": {
          "base_uri": "https://localhost:8080/"
        },
        "outputId": "deac6662-cacd-4327-f88f-4ceefc23bfb2"
      },
      "source": [
        "image_path = tf.keras.utils.get_file(\n",
        "      'Dataset',\n",
        "      'https://drive.google.com/drive/folders/1J4t5NQJShSkRFUCYEKw11Kvq6xYn91Po?usp=sharing',\n",
        "      untar=True)"
      ],
      "execution_count": 4,
      "outputs": [
        {
          "output_type": "stream",
          "name": "stdout",
          "text": [
            "Downloading data from https://drive.google.com/drive/folders/1J4t5NQJShSkRFUCYEKw11Kvq6xYn91Po?usp=sharing\n",
            " 172032/Unknown - 0s 1us/step"
          ]
        }
      ]
    },
    {
      "cell_type": "markdown",
      "metadata": {
        "id": "a55MR6i6nuDm"
      },
      "source": [
        "You could replace `image_path` with your own image folders. As for uploading data to colab, you could find the upload button in the left sidebar shown in the image below with the red rectangle. Just have a try to upload a zip file and unzip it. The root file path is the current path.\n",
        "\n",
        "<img src=\"https://storage.googleapis.com/download.tensorflow.org/models/tflite/screenshots/model_maker_image_classification.png\" alt=\"Upload File\" width=\"800\" hspace=\"100\">"
      ]
    },
    {
      "cell_type": "code",
      "source": [
        "from PIL import Image"
      ],
      "metadata": {
        "id": "wwJ3uYGrv8bx"
      },
      "execution_count": 6,
      "outputs": []
    },
    {
      "cell_type": "code",
      "source": [
        "import os\n",
        "from os import listdir\n",
        " \n",
        "# get the path/directory\n",
        "folder_dir = \"drive/MyDrive/Dataset/Cat\"\n",
        "for images in os.listdir(folder_dir):\n",
        "  if not file.endswith(\".jpg\"):\n",
        "    x=images.endswith(\".png\")\n",
        "    x.save()"
      ],
      "metadata": {
        "colab": {
          "base_uri": "https://localhost:8080/",
          "height": 200
        },
        "id": "GEZLKWKzwAGk",
        "outputId": "9c5ed7b5-42f9-46cb-f967-ca7a5c9be676"
      },
      "execution_count": 23,
      "outputs": [
        {
          "output_type": "error",
          "ename": "AttributeError",
          "evalue": "ignored",
          "traceback": [
            "\u001b[0;31m---------------------------------------------------------------------------\u001b[0m",
            "\u001b[0;31mAttributeError\u001b[0m                            Traceback (most recent call last)",
            "\u001b[0;32m<ipython-input-23-b06f66f9b793>\u001b[0m in \u001b[0;36m<module>\u001b[0;34m()\u001b[0m\n\u001b[1;32m      7\u001b[0m   \u001b[0;32mif\u001b[0m \u001b[0;32mnot\u001b[0m \u001b[0mfile\u001b[0m\u001b[0;34m.\u001b[0m\u001b[0mendswith\u001b[0m\u001b[0;34m(\u001b[0m\u001b[0;34m\".jpg\"\u001b[0m\u001b[0;34m)\u001b[0m\u001b[0;34m:\u001b[0m\u001b[0;34m\u001b[0m\u001b[0;34m\u001b[0m\u001b[0m\n\u001b[1;32m      8\u001b[0m     \u001b[0mx\u001b[0m\u001b[0;34m=\u001b[0m\u001b[0mimages\u001b[0m\u001b[0;34m.\u001b[0m\u001b[0mendswith\u001b[0m\u001b[0;34m(\u001b[0m\u001b[0;34m\".png\"\u001b[0m\u001b[0;34m)\u001b[0m\u001b[0;34m\u001b[0m\u001b[0;34m\u001b[0m\u001b[0m\n\u001b[0;32m----> 9\u001b[0;31m     \u001b[0mx\u001b[0m\u001b[0;34m.\u001b[0m\u001b[0msave\u001b[0m\u001b[0;34m(\u001b[0m\u001b[0;34m\".png\"\u001b[0m\u001b[0;34m.\u001b[0m\u001b[0mformat\u001b[0m\u001b[0;34m(\u001b[0m\u001b[0;34m\".jpg\"\u001b[0m\u001b[0;34m)\u001b[0m\u001b[0;34m)\u001b[0m\u001b[0;34m\u001b[0m\u001b[0;34m\u001b[0m\u001b[0m\n\u001b[0m",
            "\u001b[0;31mAttributeError\u001b[0m: 'bool' object has no attribute 'save'"
          ]
        }
      ]
    },
    {
      "cell_type": "code",
      "source": [
        "from PIL import Image \n",
        "import os \n",
        "\n",
        "path = 'drive/MyDrive/Dataset/Cat'\n",
        "\n",
        "for file in os.listdir(path): \n",
        "    if not file.endswith(\".jpg\"): \n",
        "        img = Image.open(\"{path}/{file}\")\n",
        "        file_name, file_ext = os.path.splitext(file)\n",
        "        img.save('/png/{}.png'.format(file_name))"
      ],
      "metadata": {
        "colab": {
          "base_uri": "https://localhost:8080/",
          "height": 356
        },
        "id": "af2VhwjHzpom",
        "outputId": "5589050f-504a-4024-d45a-6e7be29f24e1"
      },
      "execution_count": 21,
      "outputs": [
        {
          "output_type": "error",
          "ename": "FileNotFoundError",
          "evalue": "ignored",
          "traceback": [
            "\u001b[0;31m---------------------------------------------------------------------------\u001b[0m",
            "\u001b[0;31mFileNotFoundError\u001b[0m                         Traceback (most recent call last)",
            "\u001b[0;32m<ipython-input-21-bf5bd69a215e>\u001b[0m in \u001b[0;36m<module>\u001b[0;34m()\u001b[0m\n\u001b[1;32m      6\u001b[0m \u001b[0;32mfor\u001b[0m \u001b[0mfile\u001b[0m \u001b[0;32min\u001b[0m \u001b[0mos\u001b[0m\u001b[0;34m.\u001b[0m\u001b[0mlistdir\u001b[0m\u001b[0;34m(\u001b[0m\u001b[0mpath\u001b[0m\u001b[0;34m)\u001b[0m\u001b[0;34m:\u001b[0m\u001b[0;34m\u001b[0m\u001b[0;34m\u001b[0m\u001b[0m\n\u001b[1;32m      7\u001b[0m     \u001b[0;32mif\u001b[0m \u001b[0;32mnot\u001b[0m \u001b[0mfile\u001b[0m\u001b[0;34m.\u001b[0m\u001b[0mendswith\u001b[0m\u001b[0;34m(\u001b[0m\u001b[0;34m\".jpg\"\u001b[0m\u001b[0;34m)\u001b[0m\u001b[0;34m:\u001b[0m\u001b[0;34m\u001b[0m\u001b[0;34m\u001b[0m\u001b[0m\n\u001b[0;32m----> 8\u001b[0;31m         \u001b[0mimg\u001b[0m \u001b[0;34m=\u001b[0m \u001b[0mImage\u001b[0m\u001b[0;34m.\u001b[0m\u001b[0mopen\u001b[0m\u001b[0;34m(\u001b[0m\u001b[0;34m\"{path}/{file}\"\u001b[0m\u001b[0;34m)\u001b[0m\u001b[0;34m\u001b[0m\u001b[0;34m\u001b[0m\u001b[0m\n\u001b[0m\u001b[1;32m      9\u001b[0m         \u001b[0mfile_name\u001b[0m\u001b[0;34m,\u001b[0m \u001b[0mfile_ext\u001b[0m \u001b[0;34m=\u001b[0m \u001b[0mos\u001b[0m\u001b[0;34m.\u001b[0m\u001b[0mpath\u001b[0m\u001b[0;34m.\u001b[0m\u001b[0msplitext\u001b[0m\u001b[0;34m(\u001b[0m\u001b[0mfile\u001b[0m\u001b[0;34m)\u001b[0m\u001b[0;34m\u001b[0m\u001b[0;34m\u001b[0m\u001b[0m\n\u001b[1;32m     10\u001b[0m         \u001b[0mimg\u001b[0m\u001b[0;34m.\u001b[0m\u001b[0msave\u001b[0m\u001b[0;34m(\u001b[0m\u001b[0;34m'/png/{}.png'\u001b[0m\u001b[0;34m.\u001b[0m\u001b[0mformat\u001b[0m\u001b[0;34m(\u001b[0m\u001b[0mfile_name\u001b[0m\u001b[0;34m)\u001b[0m\u001b[0;34m)\u001b[0m\u001b[0;34m\u001b[0m\u001b[0;34m\u001b[0m\u001b[0m\n",
            "\u001b[0;32m/usr/local/lib/python3.7/dist-packages/PIL/Image.py\u001b[0m in \u001b[0;36mopen\u001b[0;34m(fp, mode)\u001b[0m\n\u001b[1;32m   2841\u001b[0m \u001b[0;34m\u001b[0m\u001b[0m\n\u001b[1;32m   2842\u001b[0m     \u001b[0;32mif\u001b[0m \u001b[0mfilename\u001b[0m\u001b[0;34m:\u001b[0m\u001b[0;34m\u001b[0m\u001b[0;34m\u001b[0m\u001b[0m\n\u001b[0;32m-> 2843\u001b[0;31m         \u001b[0mfp\u001b[0m \u001b[0;34m=\u001b[0m \u001b[0mbuiltins\u001b[0m\u001b[0;34m.\u001b[0m\u001b[0mopen\u001b[0m\u001b[0;34m(\u001b[0m\u001b[0mfilename\u001b[0m\u001b[0;34m,\u001b[0m \u001b[0;34m\"rb\"\u001b[0m\u001b[0;34m)\u001b[0m\u001b[0;34m\u001b[0m\u001b[0;34m\u001b[0m\u001b[0m\n\u001b[0m\u001b[1;32m   2844\u001b[0m         \u001b[0mexclusive_fp\u001b[0m \u001b[0;34m=\u001b[0m \u001b[0;32mTrue\u001b[0m\u001b[0;34m\u001b[0m\u001b[0;34m\u001b[0m\u001b[0m\n\u001b[1;32m   2845\u001b[0m \u001b[0;34m\u001b[0m\u001b[0m\n",
            "\u001b[0;31mFileNotFoundError\u001b[0m: [Errno 2] No such file or directory: '{path}/{file}'"
          ]
        }
      ]
    },
    {
      "cell_type": "code",
      "source": [
        "import os\n",
        "path = 'drive/MyDrive/Dataset'\n",
        "images=[]\n",
        "\n",
        "\n",
        "for path, subdirs, files in os.walk(path):\n",
        "    for name in files:\n",
        "        images.append(os.path.join(path, name))"
      ],
      "metadata": {
        "id": "LapslFcr6eGb"
      },
      "execution_count": 9,
      "outputs": []
    },
    {
      "cell_type": "code",
      "source": [
        "import shutil\n",
        "shutil.rmtree(\"/content/content/drive/MyDrive/Dataset/Deer\")"
      ],
      "metadata": {
        "id": "1zivCFFJ-N7J"
      },
      "execution_count": 16,
      "outputs": []
    },
    {
      "cell_type": "code",
      "source": [
        "for file in images: \n",
        "      img = Image.open(file).convert(\"RGB\")\n",
        "      #os.makedirs(\"content/\"+file)\n",
        "      img.save(\"content/\"+file.split(\".\")[0]+\".jpg\")\n",
        "      print(file)"
      ],
      "metadata": {
        "colab": {
          "base_uri": "https://localhost:8080/"
        },
        "id": "TLzj52MF78ee",
        "outputId": "0b0673ce-b2ac-4d6e-e2da-7b29c34892a4"
      },
      "execution_count": 18,
      "outputs": [
        {
          "output_type": "stream",
          "name": "stdout",
          "text": [
            "drive/MyDrive/Dataset/Deer/download.jpeg\n",
            "drive/MyDrive/Dataset/Deer/images (1).jpeg\n",
            "drive/MyDrive/Dataset/Deer/images (2).jpeg\n",
            "drive/MyDrive/Dataset/Deer/images (3).jpeg\n",
            "drive/MyDrive/Dataset/Deer/images (4).jpeg\n",
            "drive/MyDrive/Dataset/Deer/images (5).jpeg\n",
            "drive/MyDrive/Dataset/Deer/images.png\n",
            "drive/MyDrive/Dataset/Deer/images (1).png\n",
            "drive/MyDrive/Dataset/Deer/images (2).png\n",
            "drive/MyDrive/Dataset/Deer/images (3).png\n",
            "drive/MyDrive/Dataset/Deer/images (6).jpeg\n",
            "drive/MyDrive/Dataset/Deer/images (7).jpeg\n",
            "drive/MyDrive/Dataset/Deer/images (8).jpeg\n",
            "drive/MyDrive/Dataset/Deer/images (4).png\n",
            "drive/MyDrive/Dataset/Deer/images (9).jpeg\n",
            "drive/MyDrive/Dataset/Deer/images (10).jpeg\n",
            "drive/MyDrive/Dataset/Deer/images (11).jpeg\n",
            "drive/MyDrive/Dataset/Deer/images (12).jpeg\n",
            "drive/MyDrive/Dataset/Deer/images (13).jpeg\n",
            "drive/MyDrive/Dataset/Deer/images (14).jpeg\n",
            "drive/MyDrive/Dataset/Deer/images (15).jpeg\n",
            "drive/MyDrive/Dataset/Deer/images (16).jpeg\n",
            "drive/MyDrive/Dataset/Deer/images (5).png\n",
            "drive/MyDrive/Dataset/Deer/images (17).jpeg\n",
            "drive/MyDrive/Dataset/Deer/images (18).jpeg\n",
            "drive/MyDrive/Dataset/Deer/images (6).png\n",
            "drive/MyDrive/Dataset/Deer/images (19).jpeg\n",
            "drive/MyDrive/Dataset/Deer/images (20).jpeg\n",
            "drive/MyDrive/Dataset/Deer/images (7).png\n",
            "drive/MyDrive/Dataset/Deer/images (8).png\n",
            "drive/MyDrive/Dataset/Deer/images (21).jpeg\n",
            "drive/MyDrive/Dataset/Deer/images (22).jpeg\n",
            "drive/MyDrive/Dataset/Deer/images (9).png\n",
            "drive/MyDrive/Dataset/Deer/images (10).png\n",
            "drive/MyDrive/Dataset/Deer/images (23).jpeg\n",
            "drive/MyDrive/Dataset/Deer/images (11).png\n",
            "drive/MyDrive/Dataset/Deer/images (24).jpeg\n",
            "drive/MyDrive/Dataset/Deer/images (25).jpeg\n",
            "drive/MyDrive/Dataset/Deer/images (12).png\n",
            "drive/MyDrive/Dataset/Deer/images (26).jpeg\n",
            "drive/MyDrive/Dataset/Deer/images (27).jpeg\n",
            "drive/MyDrive/Dataset/Deer/images (28).jpeg\n",
            "drive/MyDrive/Dataset/Deer/images (13).png\n",
            "drive/MyDrive/Dataset/Deer/images (29).jpeg\n",
            "drive/MyDrive/Dataset/Deer/images (30).jpeg\n",
            "drive/MyDrive/Dataset/Deer/images (31).jpeg\n",
            "drive/MyDrive/Dataset/Deer/images (14).png\n",
            "drive/MyDrive/Dataset/Deer/images (32).jpeg\n",
            "drive/MyDrive/Dataset/Deer/images (33).jpeg\n",
            "drive/MyDrive/Dataset/Deer/images (34).jpeg\n",
            "drive/MyDrive/Dataset/Deer/images (15).png\n",
            "drive/MyDrive/Dataset/Deer/images (35).jpeg\n",
            "drive/MyDrive/Dataset/Deer/images (16).png\n",
            "drive/MyDrive/Dataset/Dog/tired-young-dog_1308-25268.webp\n",
            "drive/MyDrive/Dataset/Dog/sticker-template-dog-cartoon-character_1308-67944.webp\n",
            "drive/MyDrive/Dataset/Dog/cute-dog-character_1308-25484.webp\n",
            "drive/MyDrive/Dataset/Dog/cartoon-happy-little-dog_29190-4218.webp\n",
            "drive/MyDrive/Dataset/Dog/fun-backpacker-german-shepherd-dog-cartoon-character_183364-80975.webp\n",
            "drive/MyDrive/Dataset/Dog/cartoon-funny-dog-sitting-isolated-white-background_29190-2681.webp\n",
            "drive/MyDrive/Dataset/Dog/cute-little-dog-cartoon-isolated-white_143596-3.webp\n",
            "drive/MyDrive/Dataset/Dog/fun-backpacker-bulldog-cartoon-character_183364-80988.webp\n",
            "drive/MyDrive/Dataset/Dog/sticker-template-dog-cartoon-character_1308-64471.webp\n",
            "drive/MyDrive/Dataset/Dog/cartoon-cute-pitbull-illustration_23-2148962885.webp\n",
            "drive/MyDrive/Dataset/Dog/cute-beagle-dog-cartoon-sticker_1308-77027.webp\n",
            "drive/MyDrive/Dataset/Dog/cute-puppy-collar-friendly-dog-with-tongue-out-isolated-white-background_81894-6145.webp\n",
            "drive/MyDrive/Dataset/Dog/hand-drawn-pitbull-illustration_52683-62649.webp\n",
            "drive/MyDrive/Dataset/Dog/vector-black-dog-french-bulldog-breed-standing-most-common-colouring_218319-2091.webp\n",
            "drive/MyDrive/Dataset/Dog/cute-beagle-puppy_138676-2066.webp\n",
            "drive/MyDrive/Dataset/Dog/cute-funny-pug-dog-character-pet-dog-cartoon-vector-illustration-white-background_223337-4071.webp\n",
            "drive/MyDrive/Dataset/Dog/cartoon-muzzled-dog-illustrated_23-2148949657.jpg\n",
            "drive/MyDrive/Dataset/Dog/cute-little-dog-cartoon-isolated-white-background_29190-4196.webp\n",
            "drive/MyDrive/Dataset/Dog/cute-dog-sticking-its-tongue-out_138676-2069.webp\n",
            "drive/MyDrive/Dataset/Dog/cute-little-dog-with-tongue-out-happy-puppy-collar_80590-13094.webp\n",
            "drive/MyDrive/Dataset/Dog/puppy-catching-piece-bone-isolated_1308-40877.webp\n",
            "drive/MyDrive/Dataset/Dog/cute-dog-sitting-cartoon-vector-illustration-animal-love-concept-isolated-vector-flat-cartoon-style_138676-2031.webp\n",
            "drive/MyDrive/Dataset/Dog/english-cocker-dog-vector-illustration-flat-style-isolated-light-background-fanny-animals-doglover-breads-home-pats-four-legged-friend-design-pins-stickers-zoo-pet-shop_433804-737.jpg\n",
            "drive/MyDrive/Dataset/Dog/boxer-dog-cartoon-white-background_1308-74420.webp\n",
            "drive/MyDrive/Dataset/Dog/sticker-template-dog-cartoon-character_1308-71563.webp\n",
            "drive/MyDrive/Dataset/Dog/cute-puppy-sleeping-mattress_1308-18403.webp\n",
            "drive/MyDrive/Dataset/Dog/cartoon-happy-dog-white_29190-5561.webp\n",
            "drive/MyDrive/Dataset/Dog/boxer-dog-cartoon-sticker_1308-77266.webp\n",
            "drive/MyDrive/Dataset/Dog/cartoon-cute-baby-bulldog-sitting_29190-6404.webp\n",
            "drive/MyDrive/Dataset/Dog/sticker-template-dog-cartoon-character_1308-71773.webp\n",
            "drive/MyDrive/Dataset/Dog/funny-corgi-walking-with-happy-muzzle-cartoon-dog-character-with-blue-collar-cute-domestic-animal-graphic-design-element-kids-print-pet-store-sticker-isolated-flat-vector-illustration_223337-4363.webp\n",
            "drive/MyDrive/Dataset/Dog/cartoon-little-pitbull-illustration_23-2148951841.webp\n",
            "drive/MyDrive/Dataset/Dog/cute-dog-mascot-illustration-design_317408-318.jpg\n",
            "drive/MyDrive/Dataset/Dog/chihuahua-dog-cartoon-sticker_1308-76940.webp\n",
            "drive/MyDrive/Dataset/Dog/vector-fawn-dog-french-bulldog-breed-sitting-most-common-colouring_218319-2093.webp\n",
            "drive/MyDrive/Dataset/Dog/alphabet-letter-d-dog_29190-6847.webp\n",
            "drive/MyDrive/Dataset/Dog/cartoon-cute-muzzled-puppy_23-2148961136.jpg\n",
            "drive/MyDrive/Dataset/Dog/sticker-design-with-pug-dog-isolated_1308-63772.webp\n",
            "drive/MyDrive/Dataset/Dog/cute-dog-cloud-with-rainbow_1308-63249.webp\n",
            "drive/MyDrive/Dataset/Dog/sticker-template-dog-cartoon-character_1308-71834.webp\n",
            "drive/MyDrive/Dataset/Dog/beagle-dog-cartoon-white-background_1308-68249.webp\n",
            "drive/MyDrive/Dataset/Dog/cute-dog-cartoon-isolated-white_160606-507.webp\n",
            "drive/MyDrive/Dataset/Dog/sticker-design-with-pomeranian-dog-isolated_1308-62776.webp\n",
            "drive/MyDrive/Dataset/Dog/black-chihuahua-dog-cartoon-white-background_1308-77248.webp\n",
            "drive/MyDrive/Dataset/Dog/sticker-design-with-siberian-husky-dog-isolated_1308-65704.webp\n",
            "drive/MyDrive/Dataset/Dog/cute-cartoon-dog_555547-212.jpg\n",
            "drive/MyDrive/Dataset/Dog/sick-puppy-with-thermometer-sitting-sad-dog-with-high-temperature-cartoon-character-fever-influenza-symptom-pet-with-cold_71593-657.webp\n",
            "drive/MyDrive/Dataset/Dog/sticker-template-dog-cartoon-character_1308-67902.jpg\n",
            "drive/MyDrive/Dataset/Dog/sticker-template-with-black-dog-cartoon-character_1308-64562.webp\n",
            "drive/MyDrive/Dataset/Dog/cartoon-cute-pitbull-illustration_23-2148957703.webp\n",
            "drive/MyDrive/Dataset/Dog/sticker-template-dog-cartoon-character_1308-66594.webp\n",
            "drive/MyDrive/Dataset/Dog/afghan-hound_1308-71092.webp\n",
            "drive/MyDrive/Dataset/Dog/beagle-dog-wearing-christmas-hat_1308-80238.webp\n",
            "drive/MyDrive/Dataset/Dog/sticker-template-dog-cartoon-character_1308-72445.webp\n",
            "drive/MyDrive/Dataset/Dog/cartoon-funny-little-dog-sitting_29190-6250.webp\n",
            "drive/MyDrive/Dataset/monkey/funny-monkey-cartoon-illustration-FYK65Y.jpg\n",
            "drive/MyDrive/Dataset/monkey/images (1)_1.jpeg\n",
            "drive/MyDrive/Dataset/monkey/download.jpeg\n",
            "drive/MyDrive/Dataset/monkey/images_1.png\n",
            "drive/MyDrive/Dataset/monkey/images (2)_1.jpeg\n",
            "drive/MyDrive/Dataset/monkey/images (3)_1.jpeg\n",
            "drive/MyDrive/Dataset/monkey/images (1)_1.png\n",
            "drive/MyDrive/Dataset/monkey/images (4)_1.jpeg\n",
            "drive/MyDrive/Dataset/monkey/images (5)_1.jpeg\n",
            "drive/MyDrive/Dataset/monkey/images (6)_1.jpeg\n",
            "drive/MyDrive/Dataset/monkey/images (2)_1.png\n",
            "drive/MyDrive/Dataset/monkey/images (7)_1.jpeg\n",
            "drive/MyDrive/Dataset/monkey/images (8)_1.jpeg\n",
            "drive/MyDrive/Dataset/monkey/images (3).png\n",
            "drive/MyDrive/Dataset/monkey/images (4).png\n",
            "drive/MyDrive/Dataset/monkey/images (9)_1.jpeg\n",
            "drive/MyDrive/Dataset/monkey/images (10)_1.jpeg\n",
            "drive/MyDrive/Dataset/monkey/images (11)_1.jpeg\n",
            "drive/MyDrive/Dataset/monkey/images (12)_1.jpeg\n",
            "drive/MyDrive/Dataset/monkey/images (13)_1.jpeg\n",
            "drive/MyDrive/Dataset/monkey/images (14).jpeg\n",
            "drive/MyDrive/Dataset/monkey/images (15).jpeg\n",
            "drive/MyDrive/Dataset/monkey/images (16).jpeg\n",
            "drive/MyDrive/Dataset/monkey/images (17).jpeg\n",
            "drive/MyDrive/Dataset/monkey/images (18).jpeg\n",
            "drive/MyDrive/Dataset/monkey/images (19).jpeg\n",
            "drive/MyDrive/Dataset/monkey/images (21).jpeg\n",
            "drive/MyDrive/Dataset/monkey/images (1).jpeg\n",
            "drive/MyDrive/Dataset/monkey/images (2).jpeg\n",
            "drive/MyDrive/Dataset/monkey/images.png\n",
            "drive/MyDrive/Dataset/monkey/images (3).jpeg\n",
            "drive/MyDrive/Dataset/monkey/images (4).jpeg\n",
            "drive/MyDrive/Dataset/monkey/images (1).png\n",
            "drive/MyDrive/Dataset/monkey/images (5).jpeg\n",
            "drive/MyDrive/Dataset/monkey/images (6).jpeg\n",
            "drive/MyDrive/Dataset/monkey/images (7).jpeg\n",
            "drive/MyDrive/Dataset/monkey/images (8).jpeg\n",
            "drive/MyDrive/Dataset/monkey/images (2).png\n",
            "drive/MyDrive/Dataset/monkey/images (9).jpeg\n",
            "drive/MyDrive/Dataset/monkey/images (10).jpeg\n",
            "drive/MyDrive/Dataset/monkey/images (11).jpeg\n",
            "drive/MyDrive/Dataset/monkey/images (12).jpeg\n",
            "drive/MyDrive/Dataset/monkey/images (13).jpeg\n",
            "drive/MyDrive/Dataset/monkey/images (20).jpeg\n",
            "drive/MyDrive/Dataset/monkey/images (22).jpeg\n",
            "drive/MyDrive/Dataset/monkey/images (23).jpeg\n",
            "drive/MyDrive/Dataset/monkey/images (24).jpeg\n",
            "drive/MyDrive/Dataset/monkey/images (25).jpeg\n",
            "drive/MyDrive/Dataset/monkey/images (26).jpeg\n",
            "drive/MyDrive/Dataset/monkey/images (27).jpeg\n",
            "drive/MyDrive/Dataset/monkey/images (5).png\n",
            "drive/MyDrive/Dataset/monkey/images (28).jpeg\n",
            "drive/MyDrive/Dataset/monkey/images (29).jpeg\n",
            "drive/MyDrive/Dataset/jackal/download.png\n",
            "drive/MyDrive/Dataset/jackal/images (1).jpeg\n",
            "drive/MyDrive/Dataset/jackal/download.jpeg\n",
            "drive/MyDrive/Dataset/jackal/download (1).jpeg\n",
            "drive/MyDrive/Dataset/jackal/images (2).jpeg\n",
            "drive/MyDrive/Dataset/jackal/images (3).jpeg\n",
            "drive/MyDrive/Dataset/jackal/images (4).jpeg\n",
            "drive/MyDrive/Dataset/jackal/images (5).jpeg\n",
            "drive/MyDrive/Dataset/jackal/images.png\n",
            "drive/MyDrive/Dataset/jackal/images (7).jpeg\n",
            "drive/MyDrive/Dataset/jackal/images (1).png\n",
            "drive/MyDrive/Dataset/jackal/images (8).jpeg\n",
            "drive/MyDrive/Dataset/jackal/images (9).jpeg\n",
            "drive/MyDrive/Dataset/jackal/images (10).jpeg\n",
            "drive/MyDrive/Dataset/jackal/images (11).jpeg\n",
            "drive/MyDrive/Dataset/jackal/images (12).jpeg\n",
            "drive/MyDrive/Dataset/jackal/images (13).jpeg\n",
            "drive/MyDrive/Dataset/jackal/images (14).jpeg\n",
            "drive/MyDrive/Dataset/jackal/images (15).jpeg\n",
            "drive/MyDrive/Dataset/jackal/images (16).jpeg\n",
            "drive/MyDrive/Dataset/jackal/images (17).jpeg\n",
            "drive/MyDrive/Dataset/jackal/download (2).jpeg\n",
            "drive/MyDrive/Dataset/jackal/download (3).jpeg\n",
            "drive/MyDrive/Dataset/jackal/download (1).png\n",
            "drive/MyDrive/Dataset/jackal/download (4).jpeg\n",
            "drive/MyDrive/Dataset/jackal/download (5).jpeg\n",
            "drive/MyDrive/Dataset/jackal/images (18).jpeg\n",
            "drive/MyDrive/Dataset/jackal/images (19).jpeg\n",
            "drive/MyDrive/Dataset/jackal/images (6).jpeg\n",
            "drive/MyDrive/Dataset/jackal/images (20).jpeg\n",
            "drive/MyDrive/Dataset/jackal/images (21).jpeg\n",
            "drive/MyDrive/Dataset/jackal/images (2).png\n",
            "drive/MyDrive/Dataset/jackal/images (3).png\n",
            "drive/MyDrive/Dataset/jackal/images (22).jpeg\n",
            "drive/MyDrive/Dataset/jackal/images (23).jpeg\n",
            "drive/MyDrive/Dataset/jackal/images (24).jpeg\n",
            "drive/MyDrive/Dataset/jackal/images (25).jpeg\n",
            "drive/MyDrive/Dataset/jackal/images (26).jpeg\n",
            "drive/MyDrive/Dataset/jackal/images (27).jpeg\n",
            "drive/MyDrive/Dataset/jackal/images (29).jpeg\n",
            "drive/MyDrive/Dataset/jackal/images (30).jpeg\n",
            "drive/MyDrive/Dataset/jackal/images (31).jpeg\n",
            "drive/MyDrive/Dataset/jackal/images (4).png\n",
            "drive/MyDrive/Dataset/jackal/download (6).jpeg\n",
            "drive/MyDrive/Dataset/jackal/images (32).jpeg\n",
            "drive/MyDrive/Dataset/jackal/images (33).jpeg\n",
            "drive/MyDrive/Dataset/jackal/images (5).png\n",
            "drive/MyDrive/Dataset/jackal/images (28).jpeg\n",
            "drive/MyDrive/Dataset/jackal/images (34).jpeg\n",
            "drive/MyDrive/Dataset/jackal/images (6).png\n",
            "drive/MyDrive/Dataset/jackal/images (35).jpeg\n",
            "drive/MyDrive/Dataset/jackal/images (36).jpeg\n",
            "drive/MyDrive/Dataset/jackal/images (37).jpeg\n",
            "drive/MyDrive/Dataset/lion/cute-lion-cartoon-vector-10766371.jpg\n",
            "drive/MyDrive/Dataset/lion/funny-lion-cartoon-vector-1866300.jpg\n",
            "drive/MyDrive/Dataset/lion/lion-cartoon-vector-3684199.jpg\n",
            "drive/MyDrive/Dataset/lion/cartoon-lion-royal-vector-4420970.jpg\n",
            "drive/MyDrive/Dataset/lion/cartoon-lion-vector-1187959.jpg\n",
            "drive/MyDrive/Dataset/lion/lion-cartoon-icon-vector-20694917.jpg\n",
            "drive/MyDrive/Dataset/lion/cartoon-lion-vector-1774588.jpg\n",
            "drive/MyDrive/Dataset/lion/lion-vector-1228871.jpg\n",
            "drive/MyDrive/Dataset/lion/cute-cartoon-lion-toy-card-vector-1222451.jpg\n",
            "drive/MyDrive/Dataset/lion/cartoon-lion-sitting-cute-and-friendly-character-vector-33836696.jpg\n",
            "drive/MyDrive/Dataset/lion/lion-cartoon-wild-animal-character-vector-27726166.jpg\n",
            "drive/MyDrive/Dataset/lion/lion-animal-character-cartoon-vector-20597250.jpg\n",
            "drive/MyDrive/Dataset/lion/funny-lion-animal-character-cartoon-vector-20939057.jpg\n",
            "drive/MyDrive/Dataset/lion/lion-cartoon-character-vector-19677621.jpg\n",
            "drive/MyDrive/Dataset/lion/cute-lion-cartoon-vector-9484619.jpg\n",
            "drive/MyDrive/Dataset/lion/sitting-lion-vector-7304007.jpg\n",
            "drive/MyDrive/Dataset/lion/lion-cartoon-vector-20813489.jpg\n",
            "drive/MyDrive/Dataset/lion/abc-cartoon-lion-vector-8919304.jpg\n",
            "drive/MyDrive/Dataset/lion/cartoon-yellow-lion-lies-on-front-paws-vector-3874462.jpg\n",
            "drive/MyDrive/Dataset/lion/funny-lion-cartoon-vector-1106899.jpg\n",
            "drive/MyDrive/Dataset/lion/cartoon-lion-a-cute-lion-vector-26999018.jpg\n",
            "drive/MyDrive/Dataset/lion/cartoon-strong-lion-vector-1177300.jpg\n",
            "drive/MyDrive/Dataset/lion/walking-lion-vector-319316.jpg\n",
            "drive/MyDrive/Dataset/lion/lion-king-vector-4094930.jpg\n",
            "drive/MyDrive/Dataset/lion/sitting-lion-vector-185122.jpg\n",
            "drive/MyDrive/Dataset/lion/lion-cartoon-wild-animal-nature-african-vector-31908776.jpg\n",
            "drive/MyDrive/Dataset/lion/happy-lion-vector-1319478.webp\n",
            "drive/MyDrive/Dataset/lion/lion-vector-18236672.webp\n",
            "drive/MyDrive/Dataset/lion/cute-lion-cartoon-on-white-background-vector-13725038.webp\n",
            "drive/MyDrive/Dataset/lion/lion-vector-4107375.webp\n",
            "drive/MyDrive/Dataset/lion/uncertain-lion-vector-3583016.webp\n",
            "drive/MyDrive/Dataset/lion/cute-wild-animal-lion-isolated-on-white-vector-1542867.webp\n",
            "drive/MyDrive/Dataset/lion/lion-vector-1441601.webp\n",
            "drive/MyDrive/Dataset/lion/lion-standing-side-view-graphic-vector-23478941.webp\n",
            "drive/MyDrive/Dataset/lion/lion-cartoon-icon-in-flat-style-design-vector-14158602.webp\n",
            "drive/MyDrive/Dataset/lion/cute-lion-animal-character-vector-13859650.webp\n",
            "drive/MyDrive/Dataset/lion/cartoon-lion-vector-493025.webp\n",
            "drive/MyDrive/Dataset/lion/cartoon-lion-vector-979377.webp\n",
            "drive/MyDrive/Dataset/lion/watercolor-cute-cartoon-lion-toy-clipart-vector-27407721.webp\n",
            "drive/MyDrive/Dataset/lion/singing-lion-vector-172191.webp\n",
            "drive/MyDrive/Dataset/lion/adorable-little-lion-in-flat-style-vector-20469915.webp\n",
            "drive/MyDrive/Dataset/lion/cartoon-lion-vector-19404477.webp\n",
            "drive/MyDrive/Dataset/lion/lion-vector-4307974.webp\n",
            "drive/MyDrive/Dataset/lion/a-lion-in-savannah-vector-1477156.webp\n",
            "drive/MyDrive/Dataset/lion/wild-lion-cartoon-vector-1306847.webp\n",
            "drive/MyDrive/Dataset/lion/lion-cartoon-mascot-thumbs-up-vector-32733170.webp\n",
            "drive/MyDrive/Dataset/lion/lion-vector-25938605.webp\n",
            "drive/MyDrive/Dataset/lion/funny-kids-print-lion-vector-24346082.webp\n",
            "drive/MyDrive/Dataset/lion/lion-standing-in-meadow-cartoon-vector-40696952.webp\n",
            "drive/MyDrive/Dataset/lion/roaring-lion-vector-373851.webp\n",
            "drive/MyDrive/Dataset/lion/lion-vector-1854080.webp\n",
            "drive/MyDrive/Dataset/lion/happy-lion-smiling-vector-27253818.webp\n",
            "drive/MyDrive/Dataset/lion/baby-lion-vector-24714172.webp\n",
            "drive/MyDrive/Dataset/Cat/cat-elegant-tie_71593-692.webp\n",
            "drive/MyDrive/Dataset/Cat/sticker-template-cat-cartoon-character_1308-73047.webp\n",
            "drive/MyDrive/Dataset/Cat/sticker-template-cat-cartoon-character_1308-73786.webp\n",
            "drive/MyDrive/Dataset/Cat/cute-kitten-white_1308-30945.webp\n",
            "drive/MyDrive/Dataset/Cat/cute-cat-cartoon-sitting-white-background_194935-90.webp\n",
            "drive/MyDrive/Dataset/Cat/cartoon-funny-cat-isolated_29190-4874.webp\n",
            "drive/MyDrive/Dataset/Cat/cute-kitten-with-tri-colors_1308-39463.webp\n",
            "drive/MyDrive/Dataset/Cat/sticker-template-cat-cartoon-character_1308-73897.webp\n",
            "drive/MyDrive/Dataset/Cat/sticker-template-cat-cartoon-character_1308-67847.webp\n",
            "drive/MyDrive/Dataset/Cat/sticker-template-cat-cartoon-character_1308-75006.webp\n",
            "drive/MyDrive/Dataset/Cat/sticker-template-cat-cartoon-character_1308-73819.webp\n",
            "drive/MyDrive/Dataset/Cat/cute-white-cat-cartoon-isolated-purple_295036-324.webp\n",
            "drive/MyDrive/Dataset/Cat/sticker-template-cat-cartoon-character_1308-66941.webp\n",
            "drive/MyDrive/Dataset/Cat/sticker-template-cat-cartoon-character_1308-69666.webp\n",
            "drive/MyDrive/Dataset/Cat/sticker-template-cat-cartoon-character_1308-75228.webp\n",
            "drive/MyDrive/Dataset/Cat/cartoon-character-cat-sticker_1308-66949.webp\n",
            "drive/MyDrive/Dataset/Cat/sticker-template-cat-cartoon-character_1308-72581.webp\n",
            "drive/MyDrive/Dataset/Cat/cute-cat-with-doughnut-flat-cartoon-style_138676-2638.webp\n",
            "drive/MyDrive/Dataset/Cat/sticker-template-cat-cartoon-character_1308-68088.webp\n",
            "drive/MyDrive/Dataset/Cat/cartoon-funny-cat-sitting-white-background_29190-6840.webp\n",
            "drive/MyDrive/Dataset/Cat/sticker-template-cat-cartoon-character_1308-71585.webp\n",
            "drive/MyDrive/Dataset/Cat/young-black-realistic-domestic-cat-isolated-white-background_1284-7160.webp\n",
            "drive/MyDrive/Dataset/Cat/cute-ginger-cat-with-collar-beautiful-logo-shop-veterinary-clinic-hotel-banners-wb-advertising-postcards-vector-illustration-isolated-white-background-vector-illustration_281155-365.webp\n",
            "drive/MyDrive/Dataset/Cat/sticker-design-with-little-cat-isolated_1308-68981.webp\n",
            "drive/MyDrive/Dataset/Cat/sticker-template-cat-cartoon-character_1308-71988.webp\n",
            "drive/MyDrive/Dataset/Cat/sticker-template-cat-cartoon-character_1308-69629.webp\n",
            "drive/MyDrive/Dataset/Cat/sticker-template-cat-cartoon-character_1308-71457.webp\n",
            "drive/MyDrive/Dataset/Cat/sticker-template-cat-cartoon-character_1308-71887.webp\n",
            "drive/MyDrive/Dataset/Cat/cartoon-funny-cat-sitting-white-background_29190-6823.webp\n",
            "drive/MyDrive/Dataset/Cat/grey-kitten-yawning-near-his-bowl-cartoon_1284-63261.webp\n",
            "drive/MyDrive/Dataset/Cat/chubby-cat-cloud-with-rainbow_1308-72336.webp\n",
            "drive/MyDrive/Dataset/Cat/download.png\n",
            "drive/MyDrive/Dataset/Cat/images (1).jpeg\n",
            "drive/MyDrive/Dataset/Cat/images (2).jpeg\n",
            "drive/MyDrive/Dataset/Cat/images (3).jpeg\n",
            "drive/MyDrive/Dataset/Cat/images (4).jpeg\n",
            "drive/MyDrive/Dataset/Cat/images (5).jpeg\n",
            "drive/MyDrive/Dataset/Cat/images.png\n",
            "drive/MyDrive/Dataset/Cat/images (1).png\n",
            "drive/MyDrive/Dataset/Cat/images (6).jpeg\n",
            "drive/MyDrive/Dataset/Cat/cartoon-black-and-white-cat-vector-4042815.jpg\n",
            "drive/MyDrive/Dataset/Cat/cartoon-cat-vector-889266.jpg\n",
            "drive/MyDrive/Dataset/Cat/cartoon-smiling-cat-vector-8029669.jpg\n",
            "drive/MyDrive/Dataset/Cat/cartoon-grey-cat-vector-23728923.jpg\n",
            "drive/MyDrive/Dataset/Cat/images (7).jpeg\n",
            "drive/MyDrive/Dataset/Cat/images (8).jpeg\n",
            "drive/MyDrive/Dataset/Cat/images (9).jpeg\n",
            "drive/MyDrive/Dataset/Cat/images (10).jpeg\n",
            "drive/MyDrive/Dataset/Cat/images (11).jpeg\n",
            "drive/MyDrive/Dataset/Cat/images (12).jpeg\n",
            "drive/MyDrive/Dataset/Cat/images (2).png\n",
            "drive/MyDrive/Dataset/Cat/images (13).jpeg\n",
            "drive/MyDrive/Dataset/turtle/download.jpeg\n",
            "drive/MyDrive/Dataset/turtle/images (1).jpeg\n",
            "drive/MyDrive/Dataset/turtle/images (2).jpeg\n",
            "drive/MyDrive/Dataset/turtle/images (3).jpeg\n",
            "drive/MyDrive/Dataset/turtle/images.png\n",
            "drive/MyDrive/Dataset/turtle/images (1).png\n",
            "drive/MyDrive/Dataset/turtle/images (2).png\n",
            "drive/MyDrive/Dataset/turtle/images (4).jpeg\n",
            "drive/MyDrive/Dataset/turtle/images (5).jpeg\n",
            "drive/MyDrive/Dataset/turtle/images (6).jpeg\n",
            "drive/MyDrive/Dataset/turtle/images (3).png\n",
            "drive/MyDrive/Dataset/turtle/images (4).png\n",
            "drive/MyDrive/Dataset/turtle/images (7).jpeg\n",
            "drive/MyDrive/Dataset/turtle/images (8).jpeg\n",
            "drive/MyDrive/Dataset/turtle/images (5).png\n",
            "drive/MyDrive/Dataset/turtle/images (9).jpeg\n",
            "drive/MyDrive/Dataset/turtle/images (6).png\n",
            "drive/MyDrive/Dataset/turtle/images (10).jpeg\n",
            "drive/MyDrive/Dataset/turtle/images (7).png\n",
            "drive/MyDrive/Dataset/turtle/images (8).png\n",
            "drive/MyDrive/Dataset/turtle/images (9).png\n",
            "drive/MyDrive/Dataset/turtle/images (11).jpeg\n",
            "drive/MyDrive/Dataset/turtle/images (10).png\n",
            "drive/MyDrive/Dataset/turtle/images (11).png\n",
            "drive/MyDrive/Dataset/turtle/images (12).jpeg\n",
            "drive/MyDrive/Dataset/turtle/images (13).jpeg\n",
            "drive/MyDrive/Dataset/turtle/images (14).jpeg\n",
            "drive/MyDrive/Dataset/turtle/images (15).jpeg\n",
            "drive/MyDrive/Dataset/turtle/images (12).png\n",
            "drive/MyDrive/Dataset/turtle/images (13).png\n",
            "drive/MyDrive/Dataset/turtle/images (14).png\n",
            "drive/MyDrive/Dataset/turtle/images (16).jpeg\n",
            "drive/MyDrive/Dataset/turtle/images (17).jpeg\n",
            "drive/MyDrive/Dataset/turtle/images (18).jpeg\n",
            "drive/MyDrive/Dataset/turtle/images (15).png\n",
            "drive/MyDrive/Dataset/turtle/images (16).png\n",
            "drive/MyDrive/Dataset/turtle/images (19).jpeg\n",
            "drive/MyDrive/Dataset/turtle/images (20).jpeg\n",
            "drive/MyDrive/Dataset/turtle/images (21).jpeg\n",
            "drive/MyDrive/Dataset/turtle/images (22).jpeg\n",
            "drive/MyDrive/Dataset/turtle/images (23).jpeg\n",
            "drive/MyDrive/Dataset/turtle/images (24).jpeg\n",
            "drive/MyDrive/Dataset/turtle/images (25).jpeg\n",
            "drive/MyDrive/Dataset/turtle/images (26).jpeg\n",
            "drive/MyDrive/Dataset/turtle/images (27).jpeg\n",
            "drive/MyDrive/Dataset/turtle/images (17).png\n",
            "drive/MyDrive/Dataset/turtle/images (28).jpeg\n",
            "drive/MyDrive/Dataset/turtle/images (29).jpeg\n",
            "drive/MyDrive/Dataset/turtle/images (30).jpeg\n",
            "drive/MyDrive/Dataset/turtle/images (31).jpeg\n",
            "drive/MyDrive/Dataset/turtle/images (32).jpeg\n",
            "drive/MyDrive/Dataset/turtle/images (33).jpeg\n",
            "drive/MyDrive/Dataset/turtle/images (18).png\n",
            "drive/MyDrive/Dataset/elephant/download.jpeg\n",
            "drive/MyDrive/Dataset/elephant/download (1).jpeg\n",
            "drive/MyDrive/Dataset/elephant/download (2).jpeg\n",
            "drive/MyDrive/Dataset/elephant/images.png\n",
            "drive/MyDrive/Dataset/elephant/images (1).jpeg\n",
            "drive/MyDrive/Dataset/elephant/images (2).jpeg\n",
            "drive/MyDrive/Dataset/elephant/images (3).jpeg\n",
            "drive/MyDrive/Dataset/elephant/images (1).png\n",
            "drive/MyDrive/Dataset/elephant/images (5).jpeg\n",
            "drive/MyDrive/Dataset/elephant/images (6).jpeg\n",
            "drive/MyDrive/Dataset/elephant/images (7).jpeg\n",
            "drive/MyDrive/Dataset/elephant/images (8).jpeg\n",
            "drive/MyDrive/Dataset/elephant/images (9).jpeg\n",
            "drive/MyDrive/Dataset/elephant/images (10).jpeg\n",
            "drive/MyDrive/Dataset/elephant/images (11).jpeg\n",
            "drive/MyDrive/Dataset/elephant/images (2).png\n",
            "drive/MyDrive/Dataset/elephant/images (3).png\n",
            "drive/MyDrive/Dataset/elephant/images (4).png\n",
            "drive/MyDrive/Dataset/elephant/images (12).jpeg\n",
            "drive/MyDrive/Dataset/elephant/images (5).png\n",
            "drive/MyDrive/Dataset/elephant/images (13).jpeg\n",
            "drive/MyDrive/Dataset/elephant/images (4).jpeg\n",
            "drive/MyDrive/Dataset/elephant/images (14).jpeg\n",
            "drive/MyDrive/Dataset/elephant/images (15).jpeg\n",
            "drive/MyDrive/Dataset/elephant/images (16).jpeg\n",
            "drive/MyDrive/Dataset/elephant/images (17).jpeg\n",
            "drive/MyDrive/Dataset/elephant/images (6).png\n",
            "drive/MyDrive/Dataset/elephant/images (18).jpeg\n",
            "drive/MyDrive/Dataset/elephant/images (19).jpeg\n",
            "drive/MyDrive/Dataset/elephant/images (20).jpeg\n",
            "drive/MyDrive/Dataset/elephant/images (21).jpeg\n",
            "drive/MyDrive/Dataset/elephant/images (22).jpeg\n",
            "drive/MyDrive/Dataset/elephant/images (23).jpeg\n",
            "drive/MyDrive/Dataset/elephant/images (24).jpeg\n",
            "drive/MyDrive/Dataset/elephant/images (25).jpeg\n",
            "drive/MyDrive/Dataset/elephant/images (26).jpeg\n",
            "drive/MyDrive/Dataset/elephant/images (27).jpeg\n",
            "drive/MyDrive/Dataset/elephant/images (28).jpeg\n",
            "drive/MyDrive/Dataset/elephant/images (29).jpeg\n",
            "drive/MyDrive/Dataset/elephant/images (7).png\n",
            "drive/MyDrive/Dataset/elephant/images (30).jpeg\n",
            "drive/MyDrive/Dataset/elephant/images (31).jpeg\n",
            "drive/MyDrive/Dataset/elephant/images (8).png\n",
            "drive/MyDrive/Dataset/elephant/images (32).jpeg\n",
            "drive/MyDrive/Dataset/elephant/images (9).png\n",
            "drive/MyDrive/Dataset/elephant/images (33).jpeg\n",
            "drive/MyDrive/Dataset/elephant/images (10).png\n",
            "drive/MyDrive/Dataset/elephant/images (34).jpeg\n",
            "drive/MyDrive/Dataset/elephant/images (35).jpeg\n",
            "drive/MyDrive/Dataset/elephant/images (36).jpeg\n",
            "drive/MyDrive/Dataset/elephant/images (37).jpeg\n",
            "drive/MyDrive/Dataset/Rabbit/download.png\n",
            "drive/MyDrive/Dataset/Rabbit/images (1).jpeg\n",
            "drive/MyDrive/Dataset/Rabbit/images (2).jpeg\n",
            "drive/MyDrive/Dataset/Rabbit/images (3).jpeg\n",
            "drive/MyDrive/Dataset/Rabbit/images (4).jpeg\n",
            "drive/MyDrive/Dataset/Rabbit/images (5).jpeg\n",
            "drive/MyDrive/Dataset/Rabbit/images (6).jpeg\n",
            "drive/MyDrive/Dataset/Rabbit/images (7).jpeg\n",
            "drive/MyDrive/Dataset/Rabbit/images (8).jpeg\n",
            "drive/MyDrive/Dataset/Rabbit/images (9).jpeg\n",
            "drive/MyDrive/Dataset/Rabbit/images (10).jpeg\n",
            "drive/MyDrive/Dataset/Rabbit/images.png\n",
            "drive/MyDrive/Dataset/Rabbit/images (2).png\n",
            "drive/MyDrive/Dataset/Rabbit/images (11).jpeg\n",
            "drive/MyDrive/Dataset/Rabbit/images (12).jpeg\n",
            "drive/MyDrive/Dataset/Rabbit/images (13).jpeg\n",
            "drive/MyDrive/Dataset/Rabbit/images (14).jpeg\n",
            "drive/MyDrive/Dataset/Rabbit/images (3).png\n",
            "drive/MyDrive/Dataset/Rabbit/images (15).jpeg\n",
            "drive/MyDrive/Dataset/Rabbit/images (4).png\n",
            "drive/MyDrive/Dataset/Rabbit/images (5).png\n",
            "drive/MyDrive/Dataset/Rabbit/images (16).jpeg\n",
            "drive/MyDrive/Dataset/Rabbit/images (6).png\n",
            "drive/MyDrive/Dataset/Rabbit/images (7).png\n",
            "drive/MyDrive/Dataset/Rabbit/images (17).jpeg\n",
            "drive/MyDrive/Dataset/Rabbit/images (18).jpeg\n",
            "drive/MyDrive/Dataset/Rabbit/images (8).png\n",
            "drive/MyDrive/Dataset/Rabbit/images (19).jpeg\n",
            "drive/MyDrive/Dataset/Rabbit/images (20).jpeg\n",
            "drive/MyDrive/Dataset/Rabbit/images (9).png\n",
            "drive/MyDrive/Dataset/Rabbit/images (21).jpeg\n",
            "drive/MyDrive/Dataset/Rabbit/images (22).jpeg\n",
            "drive/MyDrive/Dataset/Rabbit/images (23).jpeg\n",
            "drive/MyDrive/Dataset/Rabbit/images (24).jpeg\n",
            "drive/MyDrive/Dataset/Rabbit/images (25).jpeg\n",
            "drive/MyDrive/Dataset/Rabbit/images (26).jpeg\n",
            "drive/MyDrive/Dataset/Rabbit/images (27).jpeg\n",
            "drive/MyDrive/Dataset/Rabbit/images (28).jpeg\n",
            "drive/MyDrive/Dataset/Rabbit/images (29).jpeg\n",
            "drive/MyDrive/Dataset/Rabbit/images (30).jpeg\n",
            "drive/MyDrive/Dataset/Rabbit/images (31).jpeg\n",
            "drive/MyDrive/Dataset/Rabbit/images (32).jpeg\n",
            "drive/MyDrive/Dataset/Rabbit/images (1).png\n",
            "drive/MyDrive/Dataset/Rabbit/images (33).jpeg\n",
            "drive/MyDrive/Dataset/Rabbit/images (34).jpeg\n",
            "drive/MyDrive/Dataset/Rabbit/images (35).jpeg\n",
            "drive/MyDrive/Dataset/Rabbit/images (36).jpeg\n",
            "drive/MyDrive/Dataset/Rabbit/images (37).jpeg\n",
            "drive/MyDrive/Dataset/Rabbit/images (38).jpeg\n",
            "drive/MyDrive/Dataset/Rabbit/download.jpeg\n",
            "drive/MyDrive/Dataset/Rabbit/download (1).png\n",
            "drive/MyDrive/Dataset/Rabbit/images (39).jpeg\n",
            "drive/MyDrive/Dataset/Rabbit/images (40).jpeg\n",
            "drive/MyDrive/Dataset/Rabbit/images (41).jpeg\n",
            "drive/MyDrive/Dataset/Rabbit/images (42).jpeg\n",
            "drive/MyDrive/Dataset/Rabbit/images (43).jpeg\n",
            "drive/MyDrive/Dataset/ant/download.jpeg\n",
            "drive/MyDrive/Dataset/ant/images (1).jpeg\n",
            "drive/MyDrive/Dataset/ant/images (2).jpeg\n",
            "drive/MyDrive/Dataset/ant/images.png\n",
            "drive/MyDrive/Dataset/ant/images (3).jpeg\n",
            "drive/MyDrive/Dataset/ant/images (1).png\n",
            "drive/MyDrive/Dataset/ant/images (2).png\n",
            "drive/MyDrive/Dataset/ant/images (3).png\n",
            "drive/MyDrive/Dataset/ant/images (4).jpeg\n",
            "drive/MyDrive/Dataset/ant/images (4).png\n",
            "drive/MyDrive/Dataset/ant/images (5).jpeg\n",
            "drive/MyDrive/Dataset/ant/images (6).jpeg\n",
            "drive/MyDrive/Dataset/ant/images (5).png\n",
            "drive/MyDrive/Dataset/ant/images (7).jpeg\n",
            "drive/MyDrive/Dataset/ant/images (8).jpeg\n",
            "drive/MyDrive/Dataset/ant/images (6).png\n",
            "drive/MyDrive/Dataset/ant/images (7).png\n",
            "drive/MyDrive/Dataset/ant/images (8).png\n",
            "drive/MyDrive/Dataset/ant/images (9).jpeg\n",
            "drive/MyDrive/Dataset/ant/images (9).png\n",
            "drive/MyDrive/Dataset/ant/images (10).png\n",
            "drive/MyDrive/Dataset/ant/images (11).png\n",
            "drive/MyDrive/Dataset/ant/images (12).png\n",
            "drive/MyDrive/Dataset/ant/images (10).jpeg\n",
            "drive/MyDrive/Dataset/ant/images (11).jpeg\n",
            "drive/MyDrive/Dataset/ant/images (12).jpeg\n",
            "drive/MyDrive/Dataset/ant/images (13).jpeg\n",
            "drive/MyDrive/Dataset/ant/images (13).png\n",
            "drive/MyDrive/Dataset/ant/images (14).jpeg\n",
            "drive/MyDrive/Dataset/ant/images (15).jpeg\n",
            "drive/MyDrive/Dataset/ant/images (16).jpeg\n",
            "drive/MyDrive/Dataset/ant/images (17).jpeg\n",
            "drive/MyDrive/Dataset/ant/images (18).jpeg\n",
            "drive/MyDrive/Dataset/ant/images (19).jpeg\n",
            "drive/MyDrive/Dataset/ant/images (20).jpeg\n",
            "drive/MyDrive/Dataset/ant/images (14).png\n",
            "drive/MyDrive/Dataset/ant/images (21).jpeg\n",
            "drive/MyDrive/Dataset/ant/images (22).jpeg\n",
            "drive/MyDrive/Dataset/ant/images (15).png\n",
            "drive/MyDrive/Dataset/ant/images (23).jpeg\n",
            "drive/MyDrive/Dataset/ant/images (24).jpeg\n",
            "drive/MyDrive/Dataset/ant/images (25).jpeg\n",
            "drive/MyDrive/Dataset/ant/images (26).jpeg\n",
            "drive/MyDrive/Dataset/ant/images (27).jpeg\n",
            "drive/MyDrive/Dataset/ant/images (16).png\n",
            "drive/MyDrive/Dataset/ant/images (17).png\n",
            "drive/MyDrive/Dataset/ant/images (18).png\n",
            "drive/MyDrive/Dataset/ant/images (19).png\n",
            "drive/MyDrive/Dataset/ant/images (28).jpeg\n",
            "drive/MyDrive/Dataset/ant/images (29).jpeg\n",
            "drive/MyDrive/Dataset/ant/images (30).jpeg\n",
            "drive/MyDrive/Dataset/ant/images (31).jpeg\n",
            "drive/MyDrive/Dataset/crow/download.jpeg\n",
            "drive/MyDrive/Dataset/crow/download (1).jpeg\n",
            "drive/MyDrive/Dataset/crow/download (2).jpeg\n",
            "drive/MyDrive/Dataset/crow/download (3).jpeg\n",
            "drive/MyDrive/Dataset/crow/download (4).jpeg\n",
            "drive/MyDrive/Dataset/crow/images (1).jpeg\n",
            "drive/MyDrive/Dataset/crow/images (1).png\n",
            "drive/MyDrive/Dataset/crow/images (2).jpeg\n",
            "drive/MyDrive/Dataset/crow/images (3).jpeg\n",
            "drive/MyDrive/Dataset/crow/images (2).png\n",
            "drive/MyDrive/Dataset/crow/images (3).png\n",
            "drive/MyDrive/Dataset/crow/images.png\n",
            "drive/MyDrive/Dataset/crow/images (4).jpeg\n",
            "drive/MyDrive/Dataset/crow/images (5).jpeg\n",
            "drive/MyDrive/Dataset/crow/images (6).jpeg\n",
            "drive/MyDrive/Dataset/crow/images (7).jpeg\n",
            "drive/MyDrive/Dataset/crow/images (4).png\n",
            "drive/MyDrive/Dataset/crow/images (8).jpeg\n",
            "drive/MyDrive/Dataset/crow/images (5).png\n",
            "drive/MyDrive/Dataset/crow/images (9).jpeg\n",
            "drive/MyDrive/Dataset/crow/images (10).jpeg\n",
            "drive/MyDrive/Dataset/crow/images (11).jpeg\n",
            "drive/MyDrive/Dataset/crow/images (12).jpeg\n",
            "drive/MyDrive/Dataset/crow/images (13).jpeg\n",
            "drive/MyDrive/Dataset/crow/images (14).jpeg\n",
            "drive/MyDrive/Dataset/crow/images (6).png\n",
            "drive/MyDrive/Dataset/crow/images (15).jpeg\n",
            "drive/MyDrive/Dataset/crow/images (16).jpeg\n",
            "drive/MyDrive/Dataset/crow/images (7).png\n",
            "drive/MyDrive/Dataset/crow/images (17).jpeg\n",
            "drive/MyDrive/Dataset/crow/images (18).jpeg\n",
            "drive/MyDrive/Dataset/crow/images (19).jpeg\n",
            "drive/MyDrive/Dataset/crow/images (8).png\n",
            "drive/MyDrive/Dataset/crow/images (20).jpeg\n",
            "drive/MyDrive/Dataset/crow/images (21).jpeg\n",
            "drive/MyDrive/Dataset/crow/images (22).jpeg\n",
            "drive/MyDrive/Dataset/crow/images (23).jpeg\n",
            "drive/MyDrive/Dataset/crow/images (24).jpeg\n",
            "drive/MyDrive/Dataset/crow/images (25).jpeg\n",
            "drive/MyDrive/Dataset/crow/images (26).jpeg\n",
            "drive/MyDrive/Dataset/crow/images (27).jpeg\n",
            "drive/MyDrive/Dataset/crow/images (9).png\n",
            "drive/MyDrive/Dataset/crow/images (28).jpeg\n",
            "drive/MyDrive/Dataset/crow/images (10).png\n",
            "drive/MyDrive/Dataset/crow/images (29).jpeg\n",
            "drive/MyDrive/Dataset/crow/images (30).jpeg\n",
            "drive/MyDrive/Dataset/crow/images (31).jpeg\n",
            "drive/MyDrive/Dataset/crow/images (32).jpeg\n",
            "drive/MyDrive/Dataset/crow/images (11).png\n",
            "drive/MyDrive/Dataset/crow/images (12).png\n",
            "drive/MyDrive/Dataset/crow/images (33).jpeg\n",
            "drive/MyDrive/Dataset/crow/images (34).jpeg\n",
            "drive/MyDrive/Dataset/crow/images (35).jpeg\n"
          ]
        }
      ]
    },
    {
      "cell_type": "code",
      "source": [
        ""
      ],
      "metadata": {
        "colab": {
          "base_uri": "https://localhost:8080/",
          "height": 328
        },
        "id": "BZrWNLlAAIyr",
        "outputId": "c71a1805-3452-4a7d-a62e-0abbb9231a77"
      },
      "execution_count": 20,
      "outputs": [
        {
          "output_type": "error",
          "ename": "OSError",
          "evalue": "ignored",
          "traceback": [
            "\u001b[0;31m---------------------------------------------------------------------------\u001b[0m",
            "\u001b[0;31mOSError\u001b[0m                                   Traceback (most recent call last)",
            "\u001b[0;32m<ipython-input-20-d9c2ed4f391f>\u001b[0m in \u001b[0;36m<module>\u001b[0;34m()\u001b[0m\n\u001b[1;32m      1\u001b[0m \u001b[0;32mimport\u001b[0m \u001b[0mshutil\u001b[0m\u001b[0;34m\u001b[0m\u001b[0;34m\u001b[0m\u001b[0m\n\u001b[0;32m----> 2\u001b[0;31m \u001b[0mshutil\u001b[0m\u001b[0;34m.\u001b[0m\u001b[0mmake_archive\u001b[0m\u001b[0;34m(\u001b[0m\u001b[0;34m'/content/content/drive/MyDrive/Dataset/Deer'\u001b[0m\u001b[0;34m,\u001b[0m \u001b[0;34m'zip'\u001b[0m\u001b[0;34m)\u001b[0m\u001b[0;34m\u001b[0m\u001b[0;34m\u001b[0m\u001b[0m\n\u001b[0m",
            "\u001b[0;32m/usr/lib/python3.7/shutil.py\u001b[0m in \u001b[0;36mmake_archive\u001b[0;34m(base_name, format, root_dir, base_dir, verbose, dry_run, owner, group, logger)\u001b[0m\n\u001b[1;32m    820\u001b[0m \u001b[0;34m\u001b[0m\u001b[0m\n\u001b[1;32m    821\u001b[0m     \u001b[0;32mtry\u001b[0m\u001b[0;34m:\u001b[0m\u001b[0;34m\u001b[0m\u001b[0;34m\u001b[0m\u001b[0m\n\u001b[0;32m--> 822\u001b[0;31m         \u001b[0mfilename\u001b[0m \u001b[0;34m=\u001b[0m \u001b[0mfunc\u001b[0m\u001b[0;34m(\u001b[0m\u001b[0mbase_name\u001b[0m\u001b[0;34m,\u001b[0m \u001b[0mbase_dir\u001b[0m\u001b[0;34m,\u001b[0m \u001b[0;34m**\u001b[0m\u001b[0mkwargs\u001b[0m\u001b[0;34m)\u001b[0m\u001b[0;34m\u001b[0m\u001b[0;34m\u001b[0m\u001b[0m\n\u001b[0m\u001b[1;32m    823\u001b[0m     \u001b[0;32mfinally\u001b[0m\u001b[0;34m:\u001b[0m\u001b[0;34m\u001b[0m\u001b[0;34m\u001b[0m\u001b[0m\n\u001b[1;32m    824\u001b[0m         \u001b[0;32mif\u001b[0m \u001b[0mroot_dir\u001b[0m \u001b[0;32mis\u001b[0m \u001b[0;32mnot\u001b[0m \u001b[0;32mNone\u001b[0m\u001b[0;34m:\u001b[0m\u001b[0;34m\u001b[0m\u001b[0;34m\u001b[0m\u001b[0m\n",
            "\u001b[0;32m/usr/lib/python3.7/shutil.py\u001b[0m in \u001b[0;36m_make_zipfile\u001b[0;34m(base_name, base_dir, verbose, dry_run, logger)\u001b[0m\n\u001b[1;32m    718\u001b[0m                     \u001b[0mpath\u001b[0m \u001b[0;34m=\u001b[0m \u001b[0mos\u001b[0m\u001b[0;34m.\u001b[0m\u001b[0mpath\u001b[0m\u001b[0;34m.\u001b[0m\u001b[0mnormpath\u001b[0m\u001b[0;34m(\u001b[0m\u001b[0mos\u001b[0m\u001b[0;34m.\u001b[0m\u001b[0mpath\u001b[0m\u001b[0;34m.\u001b[0m\u001b[0mjoin\u001b[0m\u001b[0;34m(\u001b[0m\u001b[0mdirpath\u001b[0m\u001b[0;34m,\u001b[0m \u001b[0mname\u001b[0m\u001b[0;34m)\u001b[0m\u001b[0;34m)\u001b[0m\u001b[0;34m\u001b[0m\u001b[0;34m\u001b[0m\u001b[0m\n\u001b[1;32m    719\u001b[0m                     \u001b[0;32mif\u001b[0m \u001b[0mos\u001b[0m\u001b[0;34m.\u001b[0m\u001b[0mpath\u001b[0m\u001b[0;34m.\u001b[0m\u001b[0misfile\u001b[0m\u001b[0;34m(\u001b[0m\u001b[0mpath\u001b[0m\u001b[0;34m)\u001b[0m\u001b[0;34m:\u001b[0m\u001b[0;34m\u001b[0m\u001b[0;34m\u001b[0m\u001b[0m\n\u001b[0;32m--> 720\u001b[0;31m                         \u001b[0mzf\u001b[0m\u001b[0;34m.\u001b[0m\u001b[0mwrite\u001b[0m\u001b[0;34m(\u001b[0m\u001b[0mpath\u001b[0m\u001b[0;34m,\u001b[0m \u001b[0mpath\u001b[0m\u001b[0;34m)\u001b[0m\u001b[0;34m\u001b[0m\u001b[0;34m\u001b[0m\u001b[0m\n\u001b[0m\u001b[1;32m    721\u001b[0m                         \u001b[0;32mif\u001b[0m \u001b[0mlogger\u001b[0m \u001b[0;32mis\u001b[0m \u001b[0;32mnot\u001b[0m \u001b[0;32mNone\u001b[0m\u001b[0;34m:\u001b[0m\u001b[0;34m\u001b[0m\u001b[0;34m\u001b[0m\u001b[0m\n\u001b[1;32m    722\u001b[0m                             \u001b[0mlogger\u001b[0m\u001b[0;34m.\u001b[0m\u001b[0minfo\u001b[0m\u001b[0;34m(\u001b[0m\u001b[0;34m\"adding '%s'\"\u001b[0m\u001b[0;34m,\u001b[0m \u001b[0mpath\u001b[0m\u001b[0;34m)\u001b[0m\u001b[0;34m\u001b[0m\u001b[0;34m\u001b[0m\u001b[0m\n",
            "\u001b[0;32m/usr/lib/python3.7/zipfile.py\u001b[0m in \u001b[0;36mwrite\u001b[0;34m(self, filename, arcname, compress_type, compresslevel)\u001b[0m\n\u001b[1;32m   1761\u001b[0m                 \u001b[0mself\u001b[0m\u001b[0;34m.\u001b[0m\u001b[0mstart_dir\u001b[0m \u001b[0;34m=\u001b[0m \u001b[0mself\u001b[0m\u001b[0;34m.\u001b[0m\u001b[0mfp\u001b[0m\u001b[0;34m.\u001b[0m\u001b[0mtell\u001b[0m\u001b[0;34m(\u001b[0m\u001b[0;34m)\u001b[0m\u001b[0;34m\u001b[0m\u001b[0;34m\u001b[0m\u001b[0m\n\u001b[1;32m   1762\u001b[0m         \u001b[0;32melse\u001b[0m\u001b[0;34m:\u001b[0m\u001b[0;34m\u001b[0m\u001b[0;34m\u001b[0m\u001b[0m\n\u001b[0;32m-> 1763\u001b[0;31m             \u001b[0;32mwith\u001b[0m \u001b[0mopen\u001b[0m\u001b[0;34m(\u001b[0m\u001b[0mfilename\u001b[0m\u001b[0;34m,\u001b[0m \u001b[0;34m\"rb\"\u001b[0m\u001b[0;34m)\u001b[0m \u001b[0;32mas\u001b[0m \u001b[0msrc\u001b[0m\u001b[0;34m,\u001b[0m \u001b[0mself\u001b[0m\u001b[0;34m.\u001b[0m\u001b[0mopen\u001b[0m\u001b[0;34m(\u001b[0m\u001b[0mzinfo\u001b[0m\u001b[0;34m,\u001b[0m \u001b[0;34m'w'\u001b[0m\u001b[0;34m)\u001b[0m \u001b[0;32mas\u001b[0m \u001b[0mdest\u001b[0m\u001b[0;34m:\u001b[0m\u001b[0;34m\u001b[0m\u001b[0;34m\u001b[0m\u001b[0m\n\u001b[0m\u001b[1;32m   1764\u001b[0m                 \u001b[0mshutil\u001b[0m\u001b[0;34m.\u001b[0m\u001b[0mcopyfileobj\u001b[0m\u001b[0;34m(\u001b[0m\u001b[0msrc\u001b[0m\u001b[0;34m,\u001b[0m \u001b[0mdest\u001b[0m\u001b[0;34m,\u001b[0m \u001b[0;36m1024\u001b[0m\u001b[0;34m*\u001b[0m\u001b[0;36m8\u001b[0m\u001b[0;34m)\u001b[0m\u001b[0;34m\u001b[0m\u001b[0;34m\u001b[0m\u001b[0m\n\u001b[1;32m   1765\u001b[0m \u001b[0;34m\u001b[0m\u001b[0m\n",
            "\u001b[0;31mOSError\u001b[0m: [Errno 95] Operation not supported: 'drive/MyDrive/Untitled document (2).gdoc'"
          ]
        }
      ]
    },
    {
      "cell_type": "code",
      "source": [
        "image_path=('drive/MyDrive/Dataset')"
      ],
      "metadata": {
        "id": "OGaIRWK-t0GZ"
      },
      "execution_count": 6,
      "outputs": []
    },
    {
      "cell_type": "markdown",
      "metadata": {
        "id": "NNRNv_mloS89"
      },
      "source": [
        "If you prefer not to upload your images to the cloud, you could try to run the library locally following the [guide](https://github.com/tensorflow/examples/tree/master/tensorflow_examples/lite/model_maker) in github."
      ]
    },
    {
      "cell_type": "markdown",
      "metadata": {
        "id": "w-VDriAdsowu"
      },
      "source": [
        "### Run the example\n",
        "The example just consists of 4 lines of code as shown below, each of which representing one step of the overall process.\n"
      ]
    },
    {
      "cell_type": "markdown",
      "metadata": {
        "id": "6ahtcO86tZBL"
      },
      "source": [
        "1.   Load input data specific to an on-device ML app. Split it to training data and testing data."
      ]
    },
    {
      "cell_type": "code",
      "metadata": {
        "id": "lANoNS_gtdH1",
        "colab": {
          "base_uri": "https://localhost:8080/"
        },
        "outputId": "72a070b6-6996-490f-e095-d89d3aaf8d56"
      },
      "source": [
        "data = DataLoader.from_folder(image_path)\n",
        "train_data, test_data = data.split(0.9)"
      ],
      "execution_count": 8,
      "outputs": [
        {
          "output_type": "stream",
          "name": "stdout",
          "text": [
            "INFO:tensorflow:Load image with size: 584, num_label: 11, labels: Cat, Deer, Dog, Rabbit, ant, crow, elephant, jackal, lion, monkey, turtle.\n"
          ]
        }
      ]
    },
    {
      "cell_type": "markdown",
      "metadata": {
        "id": "Y_9IWyIztuRF"
      },
      "source": [
        "2. Customize the TensorFlow model."
      ]
    },
    {
      "cell_type": "code",
      "metadata": {
        "id": "yRXMZbrwtyRD",
        "colab": {
          "base_uri": "https://localhost:8080/",
          "height": 886
        },
        "outputId": "1922523b-2db6-42fb-fc87-2c1f058d79ef"
      },
      "source": [
        "model = image_classifier.create(train_data)"
      ],
      "execution_count": 9,
      "outputs": [
        {
          "output_type": "stream",
          "name": "stdout",
          "text": [
            "INFO:tensorflow:Retraining the models...\n",
            "Model: \"sequential\"\n",
            "_________________________________________________________________\n",
            " Layer (type)                Output Shape              Param #   \n",
            "=================================================================\n",
            " hub_keras_layer_v1v2 (HubKe  (None, 1280)             3413024   \n",
            " rasLayerV1V2)                                                   \n",
            "                                                                 \n",
            " dropout (Dropout)           (None, 1280)              0         \n",
            "                                                                 \n",
            " dense (Dense)               (None, 11)                14091     \n",
            "                                                                 \n",
            "=================================================================\n",
            "Total params: 3,427,115\n",
            "Trainable params: 14,091\n",
            "Non-trainable params: 3,413,024\n",
            "_________________________________________________________________\n",
            "None\n",
            "Epoch 1/5\n"
          ]
        },
        {
          "output_type": "stream",
          "name": "stderr",
          "text": [
            "/usr/local/lib/python3.7/dist-packages/keras/optimizer_v2/gradient_descent.py:102: UserWarning: The `lr` argument is deprecated, use `learning_rate` instead.\n",
            "  super(SGD, self).__init__(name, **kwargs)\n"
          ]
        },
        {
          "output_type": "error",
          "ename": "InvalidArgumentError",
          "evalue": "ignored",
          "traceback": [
            "\u001b[0;31m---------------------------------------------------------------------------\u001b[0m",
            "\u001b[0;31mInvalidArgumentError\u001b[0m                      Traceback (most recent call last)",
            "\u001b[0;32m<ipython-input-9-c6c91b75df2e>\u001b[0m in \u001b[0;36m<module>\u001b[0;34m()\u001b[0m\n\u001b[0;32m----> 1\u001b[0;31m \u001b[0mmodel\u001b[0m \u001b[0;34m=\u001b[0m \u001b[0mimage_classifier\u001b[0m\u001b[0;34m.\u001b[0m\u001b[0mcreate\u001b[0m\u001b[0;34m(\u001b[0m\u001b[0mtrain_data\u001b[0m\u001b[0;34m)\u001b[0m\u001b[0;34m\u001b[0m\u001b[0;34m\u001b[0m\u001b[0m\n\u001b[0m",
            "\u001b[0;32m/usr/local/lib/python3.7/dist-packages/tensorflow_examples/lite/model_maker/core/task/image_classifier.py\u001b[0m in \u001b[0;36mcreate\u001b[0;34m(cls, train_data, model_spec, validation_data, batch_size, epochs, steps_per_epoch, train_whole_model, dropout_rate, learning_rate, momentum, shuffle, use_augmentation, use_hub_library, warmup_steps, model_dir, do_train)\u001b[0m\n\u001b[1;32m    337\u001b[0m     \u001b[0;32mif\u001b[0m \u001b[0mdo_train\u001b[0m\u001b[0;34m:\u001b[0m\u001b[0;34m\u001b[0m\u001b[0;34m\u001b[0m\u001b[0m\n\u001b[1;32m    338\u001b[0m       \u001b[0mtf\u001b[0m\u001b[0;34m.\u001b[0m\u001b[0mcompat\u001b[0m\u001b[0;34m.\u001b[0m\u001b[0mv1\u001b[0m\u001b[0;34m.\u001b[0m\u001b[0mlogging\u001b[0m\u001b[0;34m.\u001b[0m\u001b[0minfo\u001b[0m\u001b[0;34m(\u001b[0m\u001b[0;34m'Retraining the models...'\u001b[0m\u001b[0;34m)\u001b[0m\u001b[0;34m\u001b[0m\u001b[0;34m\u001b[0m\u001b[0m\n\u001b[0;32m--> 339\u001b[0;31m       \u001b[0mimage_classifier\u001b[0m\u001b[0;34m.\u001b[0m\u001b[0mtrain\u001b[0m\u001b[0;34m(\u001b[0m\u001b[0mtrain_data\u001b[0m\u001b[0;34m,\u001b[0m \u001b[0mvalidation_data\u001b[0m\u001b[0;34m,\u001b[0m \u001b[0msteps_per_epoch\u001b[0m\u001b[0;34m)\u001b[0m\u001b[0;34m\u001b[0m\u001b[0;34m\u001b[0m\u001b[0m\n\u001b[0m\u001b[1;32m    340\u001b[0m     \u001b[0;32melse\u001b[0m\u001b[0;34m:\u001b[0m\u001b[0;34m\u001b[0m\u001b[0;34m\u001b[0m\u001b[0m\n\u001b[1;32m    341\u001b[0m       \u001b[0;31m# Used in evaluation.\u001b[0m\u001b[0;34m\u001b[0m\u001b[0;34m\u001b[0m\u001b[0;34m\u001b[0m\u001b[0m\n",
            "\u001b[0;32m/usr/local/lib/python3.7/dist-packages/tensorflow_examples/lite/model_maker/core/task/image_classifier.py\u001b[0m in \u001b[0;36mtrain\u001b[0;34m(self, train_data, validation_data, hparams, steps_per_epoch)\u001b[0m\n\u001b[1;32m    194\u001b[0m         \u001b[0mtrain_ds\u001b[0m\u001b[0;34m=\u001b[0m\u001b[0mtrain_ds\u001b[0m\u001b[0;34m,\u001b[0m\u001b[0;34m\u001b[0m\u001b[0;34m\u001b[0m\u001b[0m\n\u001b[1;32m    195\u001b[0m         \u001b[0mvalidation_ds\u001b[0m\u001b[0;34m=\u001b[0m\u001b[0mvalidation_ds\u001b[0m\u001b[0;34m,\u001b[0m\u001b[0;34m\u001b[0m\u001b[0;34m\u001b[0m\u001b[0m\n\u001b[0;32m--> 196\u001b[0;31m         steps_per_epoch=steps_per_epoch)\n\u001b[0m\u001b[1;32m    197\u001b[0m \u001b[0;34m\u001b[0m\u001b[0m\n\u001b[1;32m    198\u001b[0m   def _export_tflite(self,\n",
            "\u001b[0;32m/usr/local/lib/python3.7/dist-packages/tensorflow_examples/lite/model_maker/core/task/train_image_classifier_lib.py\u001b[0m in \u001b[0;36mhub_train_model\u001b[0;34m(model, hparams, train_ds, validation_ds, steps_per_epoch)\u001b[0m\n\u001b[1;32m    142\u001b[0m       \u001b[0mepochs\u001b[0m\u001b[0;34m=\u001b[0m\u001b[0mhparams\u001b[0m\u001b[0;34m.\u001b[0m\u001b[0mtrain_epochs\u001b[0m\u001b[0;34m,\u001b[0m\u001b[0;34m\u001b[0m\u001b[0;34m\u001b[0m\u001b[0m\n\u001b[1;32m    143\u001b[0m       \u001b[0msteps_per_epoch\u001b[0m\u001b[0;34m=\u001b[0m\u001b[0msteps_per_epoch\u001b[0m\u001b[0;34m,\u001b[0m\u001b[0;34m\u001b[0m\u001b[0;34m\u001b[0m\u001b[0m\n\u001b[0;32m--> 144\u001b[0;31m       validation_data=validation_ds)\n\u001b[0m\u001b[1;32m    145\u001b[0m \u001b[0;34m\u001b[0m\u001b[0m\n\u001b[1;32m    146\u001b[0m \u001b[0;34m\u001b[0m\u001b[0m\n",
            "\u001b[0;32m/usr/local/lib/python3.7/dist-packages/keras/utils/traceback_utils.py\u001b[0m in \u001b[0;36merror_handler\u001b[0;34m(*args, **kwargs)\u001b[0m\n\u001b[1;32m     65\u001b[0m     \u001b[0;32mexcept\u001b[0m \u001b[0mException\u001b[0m \u001b[0;32mas\u001b[0m \u001b[0me\u001b[0m\u001b[0;34m:\u001b[0m  \u001b[0;31m# pylint: disable=broad-except\u001b[0m\u001b[0;34m\u001b[0m\u001b[0;34m\u001b[0m\u001b[0m\n\u001b[1;32m     66\u001b[0m       \u001b[0mfiltered_tb\u001b[0m \u001b[0;34m=\u001b[0m \u001b[0m_process_traceback_frames\u001b[0m\u001b[0;34m(\u001b[0m\u001b[0me\u001b[0m\u001b[0;34m.\u001b[0m\u001b[0m__traceback__\u001b[0m\u001b[0;34m)\u001b[0m\u001b[0;34m\u001b[0m\u001b[0;34m\u001b[0m\u001b[0m\n\u001b[0;32m---> 67\u001b[0;31m       \u001b[0;32mraise\u001b[0m \u001b[0me\u001b[0m\u001b[0;34m.\u001b[0m\u001b[0mwith_traceback\u001b[0m\u001b[0;34m(\u001b[0m\u001b[0mfiltered_tb\u001b[0m\u001b[0;34m)\u001b[0m \u001b[0;32mfrom\u001b[0m \u001b[0;32mNone\u001b[0m\u001b[0;34m\u001b[0m\u001b[0;34m\u001b[0m\u001b[0m\n\u001b[0m\u001b[1;32m     68\u001b[0m     \u001b[0;32mfinally\u001b[0m\u001b[0;34m:\u001b[0m\u001b[0;34m\u001b[0m\u001b[0;34m\u001b[0m\u001b[0m\n\u001b[1;32m     69\u001b[0m       \u001b[0;32mdel\u001b[0m \u001b[0mfiltered_tb\u001b[0m\u001b[0;34m\u001b[0m\u001b[0;34m\u001b[0m\u001b[0m\n",
            "\u001b[0;32m/usr/local/lib/python3.7/dist-packages/tensorflow/python/eager/execute.py\u001b[0m in \u001b[0;36mquick_execute\u001b[0;34m(op_name, num_outputs, inputs, attrs, ctx, name)\u001b[0m\n\u001b[1;32m     53\u001b[0m     \u001b[0mctx\u001b[0m\u001b[0;34m.\u001b[0m\u001b[0mensure_initialized\u001b[0m\u001b[0;34m(\u001b[0m\u001b[0;34m)\u001b[0m\u001b[0;34m\u001b[0m\u001b[0;34m\u001b[0m\u001b[0m\n\u001b[1;32m     54\u001b[0m     tensors = pywrap_tfe.TFE_Py_Execute(ctx._handle, device_name, op_name,\n\u001b[0;32m---> 55\u001b[0;31m                                         inputs, attrs, num_outputs)\n\u001b[0m\u001b[1;32m     56\u001b[0m   \u001b[0;32mexcept\u001b[0m \u001b[0mcore\u001b[0m\u001b[0;34m.\u001b[0m\u001b[0m_NotOkStatusException\u001b[0m \u001b[0;32mas\u001b[0m \u001b[0me\u001b[0m\u001b[0;34m:\u001b[0m\u001b[0;34m\u001b[0m\u001b[0;34m\u001b[0m\u001b[0m\n\u001b[1;32m     57\u001b[0m     \u001b[0;32mif\u001b[0m \u001b[0mname\u001b[0m \u001b[0;32mis\u001b[0m \u001b[0;32mnot\u001b[0m \u001b[0;32mNone\u001b[0m\u001b[0;34m:\u001b[0m\u001b[0;34m\u001b[0m\u001b[0;34m\u001b[0m\u001b[0m\n",
            "\u001b[0;31mInvalidArgumentError\u001b[0m: Graph execution error:\n\n2 root error(s) found.\n  (0) INVALID_ARGUMENT:  Unknown image file format. One of JPEG, PNG, GIF, BMP required.\n\t [[{{node cond/DecodePng}}]]\n\t [[IteratorGetNext]]\n\t [[IteratorGetNext/_2]]\n  (1) INVALID_ARGUMENT:  Unknown image file format. One of JPEG, PNG, GIF, BMP required.\n\t [[{{node cond/DecodePng}}]]\n\t [[IteratorGetNext]]\n0 successful operations.\n0 derived errors ignored. [Op:__inference_train_function_11113]"
          ]
        }
      ]
    },
    {
      "cell_type": "markdown",
      "metadata": {
        "id": "oxU2fDr-t2Ya"
      },
      "source": [
        "3. Evaluate the model."
      ]
    },
    {
      "cell_type": "code",
      "metadata": {
        "id": "wQr02VxJt6Cs",
        "colab": {
          "base_uri": "https://localhost:8080/"
        },
        "outputId": "7195acb8-28a0-4092-d648-db80c950d5e2"
      },
      "source": [
        "loss, accuracy = model.evaluate(test_data)"
      ],
      "execution_count": null,
      "outputs": [
        {
          "output_type": "stream",
          "text": [
            "12/12 [==============================] - 6s 162ms/step - loss: 0.6198 - accuracy: 0.8883\n"
          ],
          "name": "stdout"
        }
      ]
    },
    {
      "cell_type": "markdown",
      "metadata": {
        "id": "eVZw9zU8t84y"
      },
      "source": [
        "4.  Export to TensorFlow Lite model.\n",
        "You could download it in the left sidebar same as the uploading part for your own use."
      ]
    },
    {
      "cell_type": "code",
      "metadata": {
        "id": "Zb-eIzfluCoa",
        "colab": {
          "base_uri": "https://localhost:8080/"
        },
        "outputId": "b6018302-2a0e-4e55-df06-1d01ae3f9def"
      },
      "source": [
        "model.export(export_dir='.')"
      ],
      "execution_count": null,
      "outputs": [
        {
          "output_type": "stream",
          "text": [
            "INFO:tensorflow:Assets written to: /tmp/tmp4oa4sv62/assets\n"
          ],
          "name": "stdout"
        },
        {
          "output_type": "stream",
          "text": [
            "INFO:tensorflow:Assets written to: /tmp/tmp4oa4sv62/assets\n"
          ],
          "name": "stderr"
        },
        {
          "output_type": "stream",
          "text": [
            "INFO:tensorflow:Label file is inside the TFLite model with metadata.\n"
          ],
          "name": "stdout"
        },
        {
          "output_type": "stream",
          "text": [
            "INFO:tensorflow:Label file is inside the TFLite model with metadata.\n"
          ],
          "name": "stderr"
        },
        {
          "output_type": "stream",
          "text": [
            "INFO:tensorflow:Saving labels in /tmp/tmp2jdf988v/labels.txt.\n"
          ],
          "name": "stdout"
        },
        {
          "output_type": "stream",
          "text": [
            "INFO:tensorflow:Saving labels in /tmp/tmp2jdf988v/labels.txt.\n"
          ],
          "name": "stderr"
        },
        {
          "output_type": "stream",
          "text": [
            "INFO:tensorflow:TensorFlow Lite model exported successfully: ./model.tflite\n"
          ],
          "name": "stdout"
        },
        {
          "output_type": "stream",
          "text": [
            "INFO:tensorflow:TensorFlow Lite model exported successfully: ./model.tflite\n"
          ],
          "name": "stderr"
        }
      ]
    },
    {
      "cell_type": "markdown",
      "metadata": {
        "id": "pyju1qc_v-wy"
      },
      "source": [
        "5. Download the trained model by clicking on the folder icon on the left hand side. Right-click on \"model.tflite\" and select download. Or run the following code:"
      ]
    },
    {
      "cell_type": "code",
      "metadata": {
        "id": "7hSmJsgWM0Lp",
        "colab": {
          "base_uri": "https://localhost:8080/",
          "height": 17
        },
        "outputId": "2d13cded-75d2-448e-b9b3-746cfea757c3"
      },
      "source": [
        "from google.colab import files\n",
        "files.download('model.tflite') "
      ],
      "execution_count": null,
      "outputs": [
        {
          "output_type": "display_data",
          "data": {
            "application/javascript": [
              "\n",
              "    async function download(id, filename, size) {\n",
              "      if (!google.colab.kernel.accessAllowed) {\n",
              "        return;\n",
              "      }\n",
              "      const div = document.createElement('div');\n",
              "      const label = document.createElement('label');\n",
              "      label.textContent = `Downloading \"${filename}\": `;\n",
              "      div.appendChild(label);\n",
              "      const progress = document.createElement('progress');\n",
              "      progress.max = size;\n",
              "      div.appendChild(progress);\n",
              "      document.body.appendChild(div);\n",
              "\n",
              "      const buffers = [];\n",
              "      let downloaded = 0;\n",
              "\n",
              "      const channel = await google.colab.kernel.comms.open(id);\n",
              "      // Send a message to notify the kernel that we're ready.\n",
              "      channel.send({})\n",
              "\n",
              "      for await (const message of channel.messages) {\n",
              "        // Send a message to notify the kernel that we're ready.\n",
              "        channel.send({})\n",
              "        if (message.buffers) {\n",
              "          for (const buffer of message.buffers) {\n",
              "            buffers.push(buffer);\n",
              "            downloaded += buffer.byteLength;\n",
              "            progress.value = downloaded;\n",
              "          }\n",
              "        }\n",
              "      }\n",
              "      const blob = new Blob(buffers, {type: 'application/binary'});\n",
              "      const a = document.createElement('a');\n",
              "      a.href = window.URL.createObjectURL(blob);\n",
              "      a.download = filename;\n",
              "      div.appendChild(a);\n",
              "      a.click();\n",
              "      div.remove();\n",
              "    }\n",
              "  "
            ],
            "text/plain": [
              "<IPython.core.display.Javascript object>"
            ]
          },
          "metadata": {
            "tags": []
          }
        },
        {
          "output_type": "display_data",
          "data": {
            "application/javascript": [
              "download(\"download_ec42f833-dbf5-43ad-9d1a-24fc80c75be9\", \"model.tflite\", 4180365)"
            ],
            "text/plain": [
              "<IPython.core.display.Javascript object>"
            ]
          },
          "metadata": {
            "tags": []
          }
        }
      ]
    },
    {
      "cell_type": "markdown",
      "metadata": {
        "id": "QujcbgibNR1e"
      },
      "source": [
        "After this simple 5 steps, we can now continue to the next step in the [codelab](https://codelabs.developers.google.com/codelabs/recognize-flowers-with-tensorflow-on-android-beta/#2).\n",
        "\n",
        "For a more comprehensive guide to TFLite Model Maker, please refer to this [notebook](https://colab.sandbox.google.com/github/tensorflow/examples/blob/master/tensorflow_examples/lite/model_maker/demo/image_classification.ipynb) and its [documentation](https://github.com/tensorflow/examples/tree/master/tensorflow_examples/lite/model_maker)."
      ]
    }
  ]
}